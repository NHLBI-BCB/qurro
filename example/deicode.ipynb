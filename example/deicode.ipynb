{
 "cells": [
  {
   "cell_type": "code",
   "execution_count": 1,
   "metadata": {},
   "outputs": [
    {
     "name": "stdout",
     "output_type": "stream",
     "text": [
      "\u001b[32mImported deicode_example/qiita_10422_table.biom as BIOMV210DirFmt to deicode_example/qiita_10422_table.biom.qza\u001b[0m\r\n"
     ]
    }
   ],
   "source": [
    "!qiime tools import \\\n",
    "    --input-path deicode_example/qiita_10422_table.biom \\\n",
    "    --output-path deicode_example/qiita_10422_table.biom.qza \\\n",
    "    --type FeatureTable[Frequency]\n"
   ]
  },
  {
   "cell_type": "code",
   "execution_count": 2,
   "metadata": {},
   "outputs": [
    {
     "name": "stdout",
     "output_type": "stream",
     "text": [
      "\u001b[32mSaved PCoAResults % Properties(['biplot']) to: deicode_example/ordination.qza\u001b[0m\r\n"
     ]
    }
   ],
   "source": [
    "!qiime deicode rpca-biplot \\\n",
    "    --i-table deicode_example/qiita_10422_table.biom.qza \\\n",
    "    --p-min-feature-count 10 \\\n",
    "    --p-min-sample-count 500 \\\n",
    "    --o-biplot deicode_example/ordination.qza\n"
   ]
  },
  {
   "cell_type": "code",
   "execution_count": 3,
   "metadata": {},
   "outputs": [
    {
     "name": "stdout",
     "output_type": "stream",
     "text": [
      "\u001b[32mSaved Visualization to: deicode_example/biplot.qzv\u001b[0m\r\n"
     ]
    }
   ],
   "source": [
    "!qiime emperor biplot \\\n",
    "    --i-biplot deicode_example/ordination.qza \\\n",
    "    --m-sample-metadata-file deicode_example/qiita_10422_metadata.tsv \\\n",
    "    --m-feature-metadata-file deicode_example/taxonomy.qza \\\n",
    "    --o-visualization deicode_example/biplot.qzv \\\n",
    "    --p-number-of-features 8\n"
   ]
  },
  {
   "cell_type": "code",
   "execution_count": 8,
   "metadata": {},
   "outputs": [
    {
     "name": "stdout",
     "output_type": "stream",
     "text": [
      "\u001b[32mExported deicode_example/ordination.qza as OrdinationDirectoryFormat to directory deicode_example\u001b[0m\r\n"
     ]
    }
   ],
   "source": [
    "# export for rankviz\n",
    "!qiime tools export \\\n",
    "    --input-path deicode_example/ordination.qza \\\n",
    "    --output-path deicode_example\n"
   ]
  },
  {
   "cell_type": "code",
   "execution_count": 18,
   "metadata": {},
   "outputs": [
    {
     "name": "stdout",
     "output_type": "stream",
     "text": [
      "Usage: rankratioviz_rankplot [OPTIONS]\r\n",
      "\r\n",
      "Options:\r\n",
      "  --ranks INTEGER     (str) Path to ordiantion\r\n",
      "                      output from deicode & minstel\r\n",
      "  --in_biom TEXT      BIOM table describing taxon abundances for samples.\r\n",
      "  --in_metadata TEXT  Metadata table file for samples.\r\n",
      "  --output_dir TEXT   Location of output files.\r\n",
      "  --help              Show this message and exit.\r\n"
     ]
    }
   ],
   "source": [
    "!rankratioviz_rankplot --help \n",
    "\n"
   ]
  },
  {
   "cell_type": "code",
   "execution_count": 44,
   "metadata": {},
   "outputs": [],
   "source": [
    "!rankratioviz_rankplot \\\n",
    "--ranks deicode_example/ordination.txt \\\n",
    "--in_biom deicode_example/qiita_10422_table.biom \\\n",
    "--in_metadata deicode_example/qiita_10422_metadata.tsv \\\n",
    "--output_dir deicode_example --in_catagory exposure_type\n",
    "\n"
   ]
  },
  {
   "cell_type": "code",
   "execution_count": null,
   "metadata": {},
   "outputs": [],
   "source": []
  }
 ],
 "metadata": {
  "kernelspec": {
   "display_name": "Python 3",
   "language": "python",
   "name": "python3"
  },
  "language_info": {
   "codemirror_mode": {
    "name": "ipython",
    "version": 3
   },
   "file_extension": ".py",
   "mimetype": "text/x-python",
   "name": "python",
   "nbconvert_exporter": "python",
   "pygments_lexer": "ipython3",
   "version": "3.5.5"
  }
 },
 "nbformat": 4,
 "nbformat_minor": 2
}
