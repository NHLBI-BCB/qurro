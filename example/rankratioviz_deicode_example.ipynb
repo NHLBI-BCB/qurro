{
 "cells": [
  {
   "cell_type": "markdown",
   "metadata": {},
   "source": [
    "## Visualizing DEICODE feature ranks with rankratioviz"
   ]
  },
  {
   "cell_type": "code",
   "execution_count": 96,
   "metadata": {},
   "outputs": [
    {
     "name": "stdout",
     "output_type": "stream",
     "text": [
      "\u001b[32mImported ../rankratioviz/tests/input/deicode_example/qiita_10422_table.biom as BIOMV210DirFmt to output/qiita_10422_table.biom.qza\u001b[0m\r\n"
     ]
    }
   ],
   "source": [
    "!qiime tools import \\\n",
    "    --input-path ../rankratioviz/tests/input/deicode_example/qiita_10422_table.biom \\\n",
    "    --output-path output/qiita_10422_table.biom.qza \\\n",
    "    --type FeatureTable[Frequency]"
   ]
  },
  {
   "cell_type": "code",
   "execution_count": 97,
   "metadata": {},
   "outputs": [
    {
     "name": "stdout",
     "output_type": "stream",
     "text": [
      "\u001b[32mSaved PCoAResults % Properties(['biplot']) to: output/ordination.qza\u001b[0m\n",
      "\u001b[32mSaved DistanceMatrix to: output/dist_matrix.qza\u001b[0m\n"
     ]
    }
   ],
   "source": [
    "!qiime deicode rpca \\\n",
    "    --i-table output/qiita_10422_table.biom.qza \\\n",
    "    --o-biplot output/ordination.qza \\\n",
    "    --o-distance-matrix output/dist_matrix.qza"
   ]
  },
  {
   "cell_type": "code",
   "execution_count": 98,
   "metadata": {},
   "outputs": [
    {
     "name": "stdout",
     "output_type": "stream",
     "text": [
      "\u001b[32mSaved Visualization to: output/biplot.qzv\u001b[0m\r\n"
     ]
    }
   ],
   "source": [
    "!qiime emperor biplot \\\n",
    "    --i-biplot output/ordination.qza \\\n",
    "    --m-sample-metadata-file ../rankratioviz/tests/input/deicode_example/qiita_10422_metadata.tsv \\\n",
    "    --m-feature-metadata-file ../rankratioviz/tests/input/deicode_example/taxonomy.tsv \\\n",
    "    --o-visualization output/biplot.qzv \\\n",
    "    --p-number-of-features 8"
   ]
  },
  {
   "cell_type": "markdown",
   "metadata": {},
   "source": [
    "### Using rankratioviz through QIIME 2"
   ]
  },
  {
   "cell_type": "code",
   "execution_count": 99,
   "metadata": {},
   "outputs": [
    {
     "name": "stdout",
     "output_type": "stream",
     "text": [
      "Usage: qiime rankratioviz unsupervised-rank-plot [OPTIONS]\r\n",
      "\r\n",
      "  Generates an interactive visualization of DEICODE ranks in tandem with a\r\n",
      "  visualization of the log ratios of selected ranks' sample abundance.\r\n",
      "\r\n",
      "Options:\r\n",
      "  --i-ranks ARTIFACT PATH PCoAResults % Properties(['biplot'])\r\n",
      "                                  A ordination file describing ranks produced\r\n",
      "                                  by DEICODE  [required]\r\n",
      "  --i-table ARTIFACT PATH FeatureTable[Frequency]\r\n",
      "                                  A BIOM table describing the abundances of\r\n",
      "                                  the ranked featuresin samples.  [required]\r\n",
      "  --m-sample-metadata-file MULTIPLE FILE\r\n",
      "                                  Metadata file or artifact viewable as\r\n",
      "                                  metadata. This option may be supplied\r\n",
      "                                  multiple times to merge metadata.\r\n",
      "                                  [required]\r\n",
      "  --m-feature-metadata-file MULTIPLE FILE\r\n",
      "                                  Metadata file or artifact viewable as\r\n",
      "                                  metadata. This option may be supplied\r\n",
      "                                  multiple times to merge metadata.\r\n",
      "                                  [required]\r\n",
      "  --o-visualization VISUALIZATION PATH\r\n",
      "                                  [required if not passing --output-dir]\r\n",
      "  --output-dir DIRECTORY          Output unspecified results to a directory\r\n",
      "  --cmd-config FILE               Use config file for command options\r\n",
      "  --verbose                       Display verbose output to stdout and/or\r\n",
      "                                  stderr during execution of this action.\r\n",
      "                                  [default: False]\r\n",
      "  --quiet                         Silence output if execution is successful\r\n",
      "                                  (silence is golden).  [default: False]\r\n",
      "  --citations                     Show citations and exit.\r\n",
      "  --help                          Show this message and exit.\r\n"
     ]
    }
   ],
   "source": [
    "!qiime rankratioviz unsupervised-rank-plot --help"
   ]
  },
  {
   "cell_type": "code",
   "execution_count": 100,
   "metadata": {},
   "outputs": [
    {
     "name": "stdout",
     "output_type": "stream",
     "text": [
      "\u001b[32mSaved Visualization to: output/rrv_plot_q2.qzv\u001b[0m\r\n"
     ]
    }
   ],
   "source": [
    "!qiime rankratioviz unsupervised-rank-plot \\\n",
    "    --i-ranks output/ordination.qza \\\n",
    "    --i-table output/qiita_10422_table.biom.qza \\\n",
    "    --m-sample-metadata-file ../rankratioviz/tests/input/deicode_example/qiita_10422_metadata.tsv \\\n",
    "    --m-feature-metadata-file ../rankratioviz/tests/input/deicode_example/taxonomy.tsv \\\n",
    "    --o-visualization output/rrv_plot_q2.qzv"
   ]
  },
  {
   "cell_type": "markdown",
   "metadata": {},
   "source": [
    "### Using rankratioviz as a standalone tool"
   ]
  },
  {
   "cell_type": "code",
   "execution_count": 101,
   "metadata": {},
   "outputs": [
    {
     "name": "stdout",
     "output_type": "stream",
     "text": [
      "\u001b[32mExported output/ordination.qza as OrdinationDirectoryFormat to directory output\u001b[0m\r\n"
     ]
    }
   ],
   "source": [
    "# export ordination to a .txt file\n",
    "!qiime tools export \\\n",
    "    --input-path output/ordination.qza \\\n",
    "    --output-path output"
   ]
  },
  {
   "cell_type": "code",
   "execution_count": 102,
   "metadata": {},
   "outputs": [
    {
     "name": "stdout",
     "output_type": "stream",
     "text": [
      "Usage: rankratioviz [OPTIONS]\r\n",
      "\r\n",
      "  Generates a plot of ranked taxa/metabolites and their abundances.\r\n",
      "\r\n",
      "Options:\r\n",
      "  -r, --ranks TEXT              Differentials output from songbird or\r\n",
      "                                Ordination output from DEICODE.  [required]\r\n",
      "  -t, --table TEXT              BIOM table describing taxon/metabolite sample\r\n",
      "                                abundances.  [required]\r\n",
      "  -fm, --feature-metadata TEXT  Feature metadata file for taxonomy.\r\n",
      "  -sm, --sample-metadata TEXT   Sample metadata file.  [required]\r\n",
      "  -o, --output-dir TEXT         Location of output files.  [required]\r\n",
      "  --help                        Show this message and exit.\r\n"
     ]
    }
   ],
   "source": [
    "!rankratioviz --help"
   ]
  },
  {
   "cell_type": "code",
   "execution_count": 103,
   "metadata": {},
   "outputs": [],
   "source": [
    "!rankratioviz \\\n",
    "    --ranks output/ordination.txt \\\n",
    "    --table ../rankratioviz/tests/input/deicode_example/qiita_10422_table.biom \\\n",
    "    --sample-metadata ../rankratioviz/tests/input/deicode_example/qiita_10422_metadata.tsv \\\n",
    "    --feature-metadata ../rankratioviz/tests/input/deicode_example/taxonomy.tsv \\\n",
    "    --output-dir output/rrv_plot_standalone/"
   ]
  }
 ],
 "metadata": {
  "kernelspec": {
   "display_name": "Python 3",
   "language": "python",
   "name": "python3"
  },
  "language_info": {
   "codemirror_mode": {
    "name": "ipython",
    "version": 3
   },
   "file_extension": ".py",
   "mimetype": "text/x-python",
   "name": "python",
   "nbconvert_exporter": "python",
   "pygments_lexer": "ipython3",
   "version": "3.6.5"
  }
 },
 "nbformat": 4,
 "nbformat_minor": 2
}
