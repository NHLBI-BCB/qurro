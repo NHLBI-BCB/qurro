{
 "cells": [
  {
   "cell_type": "markdown",
   "metadata": {},
   "source": [
    "### deicode  -- same final output in songbird/minstrel -- \"ordination.qza\" "
   ]
  },
  {
   "cell_type": "code",
   "execution_count": 1,
   "metadata": {},
   "outputs": [
    {
     "name": "stdout",
     "output_type": "stream",
     "text": [
      "\u001b[32mImported deicode_example/qiita_10422_table.biom as BIOMV210DirFmt to deicode_example/qiita_10422_table.biom.qza\u001b[0m\r\n"
     ]
    }
   ],
   "source": [
    "!qiime tools import \\\n",
    "    --input-path deicode_example/qiita_10422_table.biom \\\n",
    "    --output-path deicode_example/qiita_10422_table.biom.qza \\\n",
    "    --type FeatureTable[Frequency]\n"
   ]
  },
  {
   "cell_type": "code",
   "execution_count": 2,
   "metadata": {},
   "outputs": [
    {
     "name": "stdout",
     "output_type": "stream",
     "text": [
      "\u001b[32mSaved PCoAResults % Properties(['biplot']) to: deicode_example/ordination.qza\u001b[0m\r\n"
     ]
    }
   ],
   "source": [
    "!qiime deicode rpca-biplot \\\n",
    "    --i-table deicode_example/qiita_10422_table.biom.qza \\\n",
    "    --p-min-feature-count 10 \\\n",
    "    --p-min-sample-count 500 \\\n",
    "    --o-biplot deicode_example/ordination.qza\n"
   ]
  },
  {
   "cell_type": "code",
   "execution_count": 156,
   "metadata": {},
   "outputs": [
    {
     "name": "stdout",
     "output_type": "stream",
     "text": [
      "\u001b[32mSaved Visualization to: deicode_example/biplot.qzv\u001b[0m\r\n"
     ]
    }
   ],
   "source": [
    "!qiime emperor biplot \\\n",
    "    --i-biplot deicode_example/ordination.qza \\\n",
    "    --m-sample-metadata-file deicode_example/qiita_10422_metadata.tsv \\\n",
    "    --m-feature-metadata-file deicode_example/taxonomy.qza \\\n",
    "    --o-visualization deicode_example/biplot.qzv \\\n",
    "    --p-number-of-features 8\n"
   ]
  },
  {
   "cell_type": "markdown",
   "metadata": {},
   "source": [
    "### q2-rankratioviz"
   ]
  },
  {
   "cell_type": "code",
   "execution_count": 152,
   "metadata": {},
   "outputs": [],
   "source": [
    "import pandas as pd\n",
    "encode_ = {'Air':0, 'IHH':1}\n",
    "metadata['exposure_type_encode'] = [encode_[x] for x in metadata['exposure_type']]\n",
    "metadata.set_index('feature-id',inplace=True)\n",
    "metadata.to_csv('deicode_example/qiita_10422_metadata_encode.tsv',sep='\\t')\n"
   ]
  },
  {
   "cell_type": "code",
   "execution_count": 144,
   "metadata": {},
   "outputs": [
    {
     "name": "stdout",
     "output_type": "stream",
     "text": [
      "Usage: qiime rankratioviz rank-plot [OPTIONS]\n",
      "\n",
      "  Generates an interactive ordination rank plot where the user can visually\n",
      "  integrate sample and feature ranks.\n",
      "\n",
      "Options:\n",
      "  --i-table ARTIFACT PATH FeatureTable[Frequency]\n",
      "                                  A table of counts  [required]\n",
      "  --i-ranks ARTIFACT PATH PCoAResults % Properties(['biplot'])\n",
      "                                  The principal coordinates matrix to be\n",
      "                                  plotted in biplots.  [required]\n",
      "  --m-sample-metadata-file MULTIPLE PATH\n",
      "                                  Metadata file or artifact viewable as\n",
      "                                  metadata. This option may be supplied\n",
      "                                  multiple times to merge metadata. The sample\n",
      "                                  metadata  [required]\n",
      "  --m-feature-metadata-file MULTIPLE PATH\n",
      "                                  Metadata file or artifact viewable as\n",
      "                                  metadata. This option may be supplied\n",
      "                                  multiple times to merge metadata. The\n",
      "                                  feature metadata (useful to manipulate the\n",
      "                                  arrows in the plot).  [required]\n",
      "  --p-in-catagory TEXT            metadata catagory to plot  [required]\n",
      "  --o-visualization VISUALIZATION PATH\n",
      "                                  [required if not passing --output-dir]\n",
      "  --output-dir DIRECTORY          Output unspecified results to a directory\n",
      "  --cmd-config PATH               Use config file for command options\n",
      "  --verbose                       Display verbose output to stdout and/or\n",
      "                                  stderr during execution of this action.\n",
      "                                  [default: False]\n",
      "  --quiet                         Silence output if execution is successful\n",
      "                                  (silence is golden).  [default: False]\n",
      "  --citations                     Show citations and exit.\n",
      "  --help                          Show this message and exit.\n"
     ]
    }
   ],
   "source": [
    "!qiime rankratioviz rank-plot --help\n"
   ]
  },
  {
   "cell_type": "code",
   "execution_count": 169,
   "metadata": {},
   "outputs": [
    {
     "name": "stdout",
     "output_type": "stream",
     "text": [
      "\u001b[32mSaved Visualization to: deicode_example/rank_plot/visualization.qzv\u001b[0m\r\n"
     ]
    }
   ],
   "source": [
    "!qiime rankratioviz rank-plot --i-table example/deicode_example/qiita_10422_table.biom.qza \\\n",
    "                              --i-ranks example/deicode_example/ordination.qza \\\n",
    "                              --m-sample-metadata-file example/deicode_example/qiita_10422_metadata_encode.tsv \\\n",
    "                              --m-feature-metadata-file example/deicode_example/taxonomy.tsv \\\n",
    "                              --p-in-catagory example/exposure_type_encode \\\n",
    "                              --output-dir example/deicode_example/rank_plot\n"
   ]
  },
  {
   "cell_type": "markdown",
   "metadata": {},
   "source": [
    "### stand-alone rankratioviz"
   ]
  },
  {
   "cell_type": "code",
   "execution_count": 125,
   "metadata": {},
   "outputs": [
    {
     "name": "stdout",
     "output_type": "stream",
     "text": [
      "\u001b[32mExported deicode_example/ordination.qza as OrdinationDirectoryFormat to directory deicode_example\u001b[0m\r\n"
     ]
    }
   ],
   "source": [
    "# export for rankviz\n",
    "!qiime tools export \\\n",
    "    --input-path deicode_example/ordination.qza \\\n",
    "    --output-path deicode_example\n"
   ]
  },
  {
   "cell_type": "code",
   "execution_count": 129,
   "metadata": {},
   "outputs": [
    {
     "name": "stdout",
     "output_type": "stream",
     "text": [
      "Usage: rankratioviz_rankplot [OPTIONS]\r\n",
      "\r\n",
      "Options:\r\n",
      "  --ranks TEXT        (str) Path to ordiantion\r\n",
      "                      output from deicode & minstel\r\n",
      "  --in_biom TEXT      BIOM table describing taxon abundances for samples.\r\n",
      "  --in_taxonomy TEXT  Metadata table file for taxonomy.\r\n",
      "  --in_metadata TEXT  Metadata table file for samples.\r\n",
      "  --in_catagory TEXT  Metadata table catagory to plot.\r\n",
      "  --output_dir TEXT   Location of output files.\r\n",
      "  --help              Show this message and exit.\r\n"
     ]
    }
   ],
   "source": [
    "!rankratioviz_rankplot --help \n",
    "\n"
   ]
  },
  {
   "cell_type": "code",
   "execution_count": null,
   "metadata": {},
   "outputs": [],
   "source": [
    "!rankratioviz_rankplot \\\n",
    "--ranks deicode_example/ordination.txt \\\n",
    "--in_biom deicode_example/qiita_10422_table.biom \\\n",
    "--in_metadata deicode_example/qiita_10422_metadata_encode.tsv \\\n",
    "--in_taxonomy deicode_example/taxonomy.tsv \\\n",
    "--output_dir deicode_example --in_catagory exposure_type_encode\n",
    "\n"
   ]
  },
  {
   "cell_type": "code",
   "execution_count": null,
   "metadata": {},
   "outputs": [],
   "source": []
  }
 ],
 "metadata": {
  "kernelspec": {
   "display_name": "Python 3",
   "language": "python",
   "name": "python3"
  },
  "language_info": {
   "codemirror_mode": {
    "name": "ipython",
    "version": 3
   },
   "file_extension": ".py",
   "mimetype": "text/x-python",
   "name": "python",
   "nbconvert_exporter": "python",
   "pygments_lexer": "ipython3",
   "version": "3.5.5"
  }
 },
 "nbformat": 4,
 "nbformat_minor": 2
}
