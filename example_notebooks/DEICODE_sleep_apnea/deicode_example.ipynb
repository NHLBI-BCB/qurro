{
 "cells": [
  {
   "cell_type": "markdown",
   "metadata": {},
   "source": [
    "## Visualizing DEICODE feature ranks with rankratioviz\n",
    "In this example, we use data from [this Qiita study](https://qiita.ucsd.edu/study/description/10422). It's associated with the following paper:\n",
    "\n",
    "Tripathi, A., Melnik, A. V., Xue, J., Poulsen, O., Meehan, M. J., Humphrey, G., ... & Haddad, G. (2018). Intermittent hypoxia and hypercapnia, a hallmark of obstructive sleep apnea, alters the gut microbiome and metabolome. _mSystems, 3_(3), e00020-18.\n",
    "\n",
    "### Requirements\n",
    "This notebook relies on QIIME 2, DEICODE, q2-emperor, and rankratioviz all being installed."
   ]
  },
  {
   "cell_type": "markdown",
   "metadata": {},
   "source": [
    "### Setting up\n",
    "In this section, we clear the output directory and then import our BIOM table as a `FeatureTable[Frequency]` QIIME 2 artifact."
   ]
  },
  {
   "cell_type": "code",
   "execution_count": 1,
   "metadata": {},
   "outputs": [],
   "source": [
    "# Clear the output directory so we can write these files there\n",
    "!rm -rf output/*\n",
    "# Since git doesn't keep track of empty directories, create the output/ directory if it doesn't already exist\n",
    "# (if it does already exist, -p ensures that an error won't be thrown)\n",
    "!mkdir -p output"
   ]
  },
  {
   "cell_type": "code",
   "execution_count": 2,
   "metadata": {},
   "outputs": [
    {
     "name": "stdout",
     "output_type": "stream",
     "text": [
      "\u001b[32mImported input/qiita_10422_table.biom as BIOMV210DirFmt to output/qiita_10422_table.biom.qza\u001b[0m\r\n"
     ]
    }
   ],
   "source": [
    "!qiime tools import \\\n",
    "    --input-path input/qiita_10422_table.biom \\\n",
    "    --output-path output/qiita_10422_table.biom.qza \\\n",
    "    --type FeatureTable[Frequency]"
   ]
  },
  {
   "cell_type": "markdown",
   "metadata": {},
   "source": [
    "### Running DEICODE through QIIME 2\n",
    "Now, we run DEICODE on our imported BIOM table. This produces two output files: a biplot and a distance matrix. (We're going to use rankratioviz to visualize the feature rankings, which are contained in the biplot output file.)\n",
    "\n",
    "Please see [DEICODE's official documentation](https://library.qiime2.org/plugins/deicode) for more information about how it works and how its output files are formatted."
   ]
  },
  {
   "cell_type": "code",
   "execution_count": 3,
   "metadata": {},
   "outputs": [
    {
     "name": "stdout",
     "output_type": "stream",
     "text": [
      "\u001b[32mSaved PCoAResults % Properties(['biplot']) to: output/ordination.qza\u001b[0m\n",
      "\u001b[32mSaved DistanceMatrix to: output/dist_matrix.qza\u001b[0m\n"
     ]
    }
   ],
   "source": [
    "!qiime deicode rpca \\\n",
    "    --i-table output/qiita_10422_table.biom.qza \\\n",
    "    --o-biplot output/ordination.qza \\\n",
    "    --o-distance-matrix output/dist_matrix.qza"
   ]
  },
  {
   "cell_type": "markdown",
   "metadata": {},
   "source": [
    "### Optional: Visualizing the DEICODE biplot in [Emperor](https://docs.qiime2.org/2019.1/plugins/available/emperor/)\n",
    "This step isn't required if you just want to use DEICODE with rankratioviz. However, it provides some interesting context about the biplot that DEICODE just generated.\n",
    "\n",
    "To quote the DEICODE documentation linked above:\n",
    "> Biplots are exploratory visualization tools that allow us to represent the features (i.e. taxonomy or OTUs) that strongly influence the principal component axis as arrows. The interpretation of the compositional biplot differs slightly from classical biplot interpretation [...] The important features with regard to sample clusters are not a single arrow but [...] the log ratio between features represented by arrows pointing in different directions."
   ]
  },
  {
   "cell_type": "code",
   "execution_count": 4,
   "metadata": {},
   "outputs": [
    {
     "name": "stdout",
     "output_type": "stream",
     "text": [
      "\u001b[32mSaved Visualization to: output/biplot.qzv\u001b[0m\r\n"
     ]
    }
   ],
   "source": [
    "!qiime emperor biplot \\\n",
    "    --i-biplot output/ordination.qza \\\n",
    "    --m-sample-metadata-file input/qiita_10422_metadata.tsv \\\n",
    "    --m-feature-metadata-file input/taxonomy.tsv \\\n",
    "    --o-visualization output/biplot.qzv \\\n",
    "    --p-number-of-features 8"
   ]
  },
  {
   "cell_type": "markdown",
   "metadata": {},
   "source": [
    "As we'll show below, rankratioviz will help us understand these \"log ratios\" mentioned above in more detail."
   ]
  },
  {
   "cell_type": "markdown",
   "metadata": {},
   "source": [
    "### Using rankratioviz through QIIME 2\n",
    "You can use rankratioviz inside or outside of QIIME 2. First, let's show how to use rankratioviz from within QIIME 2. Since we're working with DEICODE output, we use the `qiime rankratioviz unsupervised-rank-plot` command."
   ]
  },
  {
   "cell_type": "code",
   "execution_count": 5,
   "metadata": {},
   "outputs": [
    {
     "name": "stdout",
     "output_type": "stream",
     "text": [
      "Usage: qiime rankratioviz unsupervised-rank-plot [OPTIONS]\n",
      "\n",
      "  Generates an interactive visualization of DEICODE ranks in tandem with a\n",
      "  visualization of the log ratios of selected ranks' sample abundance.\n",
      "\n",
      "Options:\n",
      "  --i-ranks ARTIFACT PATH PCoAResults % Properties(['biplot'])\n",
      "                                  A ordination file describing ranks produced\n",
      "                                  by DEICODE  [required]\n",
      "  --i-table ARTIFACT PATH FeatureTable[Frequency]\n",
      "                                  A BIOM table describing the abundances of\n",
      "                                  the ranked featuresin samples.  [required]\n",
      "  --m-sample-metadata-file MULTIPLE FILE\n",
      "                                  Metadata file or artifact viewable as\n",
      "                                  metadata. This option may be supplied\n",
      "                                  multiple times to merge metadata.\n",
      "                                  [required]\n",
      "  --m-feature-metadata-file MULTIPLE FILE\n",
      "                                  Metadata file or artifact viewable as\n",
      "                                  metadata. This option may be supplied\n",
      "                                  multiple times to merge metadata.\n",
      "                                  [optional]\n",
      "  --o-visualization VISUALIZATION PATH\n",
      "                                  [required if not passing --output-dir]\n",
      "  --output-dir DIRECTORY          Output unspecified results to a directory\n",
      "  --cmd-config FILE               Use config file for command options\n",
      "  --verbose                       Display verbose output to stdout and/or\n",
      "                                  stderr during execution of this action.\n",
      "                                  [default: False]\n",
      "  --quiet                         Silence output if execution is successful\n",
      "                                  (silence is golden).  [default: False]\n",
      "  --citations                     Show citations and exit.\n",
      "  --help                          Show this message and exit.\n"
     ]
    }
   ],
   "source": [
    "!qiime rankratioviz unsupervised-rank-plot --help"
   ]
  },
  {
   "cell_type": "code",
   "execution_count": 6,
   "metadata": {},
   "outputs": [
    {
     "name": "stdout",
     "output_type": "stream",
     "text": [
      "\u001b[32mSaved Visualization to: output/rrv_plot_q2.qzv\u001b[0m\r\n"
     ]
    }
   ],
   "source": [
    "!qiime rankratioviz unsupervised-rank-plot \\\n",
    "    --i-ranks output/ordination.qza \\\n",
    "    --i-table output/qiita_10422_table.biom.qza \\\n",
    "    --m-sample-metadata-file input/qiita_10422_metadata.tsv \\\n",
    "    --m-feature-metadata-file input/taxonomy.tsv \\\n",
    "    --o-visualization output/rrv_plot_q2.qzv"
   ]
  },
  {
   "cell_type": "markdown",
   "metadata": {},
   "source": [
    "That's it! Now, we've created a QZV file (describing a rankratioviz visualization) at `output/rrv_plot_q2.qzv`. You can view this visualization in one of the following ways:\n",
    "  1. Upload the QZV file to [view.qiime2.org](https://view.qiime2.org).\n",
    "  2. View the QZV file using `qiime tools view`."
   ]
  },
  {
   "cell_type": "markdown",
   "metadata": {},
   "source": [
    "### Using rankratioviz as a standalone tool\n",
    "We don't need to use rankratioviz through QIIME 2; if you want, you can run it by itself. The benefit to this is that you don't need to install QIIME 2 to run rankratioviz this way.\n",
    "\n",
    "Here, we just export the `ordination.qza` file we already generated using `qiime deicode rpca` to an `ordination.txt` file. This file can be understood by rankratioviz when run outside of QIIME 2.\n",
    "\n",
    "(In practice, you can also generate a `RPCA_ordination.txt` file -- which can be read by rankratioviz outside of QIIME 2 -- by running `deicode` outside of QIIME 2.)"
   ]
  },
  {
   "cell_type": "code",
   "execution_count": 7,
   "metadata": {},
   "outputs": [
    {
     "name": "stdout",
     "output_type": "stream",
     "text": [
      "\u001b[32mExported output/ordination.qza as OrdinationDirectoryFormat to directory output\u001b[0m\r\n"
     ]
    }
   ],
   "source": [
    "# export ordination to a .txt file\n",
    "!qiime tools export \\\n",
    "    --input-path output/ordination.qza \\\n",
    "    --output-path output"
   ]
  },
  {
   "cell_type": "code",
   "execution_count": 8,
   "metadata": {},
   "outputs": [
    {
     "name": "stdout",
     "output_type": "stream",
     "text": [
      "Usage: rankratioviz [OPTIONS]\r\n",
      "\r\n",
      "  Generates a plot of ranked taxa/metabolites and their abundances.\r\n",
      "\r\n",
      "Options:\r\n",
      "  -r, --ranks TEXT              Differentials output from songbird or\r\n",
      "                                Ordination output from DEICODE.  [required]\r\n",
      "  -t, --table TEXT              BIOM table describing taxon/metabolite sample\r\n",
      "                                abundances.  [required]\r\n",
      "  -fm, --feature-metadata TEXT  Feature metadata file.\r\n",
      "  -sm, --sample-metadata TEXT   Sample metadata file.  [required]\r\n",
      "  -o, --output-dir TEXT         Location of output files.  [required]\r\n",
      "  --help                        Show this message and exit.\r\n"
     ]
    }
   ],
   "source": [
    "!rankratioviz --help"
   ]
  },
  {
   "cell_type": "code",
   "execution_count": 9,
   "metadata": {},
   "outputs": [
    {
     "name": "stdout",
     "output_type": "stream",
     "text": [
      "All sample(s) in the sample metadata file were supported in the BIOM table.\n",
      "Successfully generated a visualization in the folder output/rrv_plot_standalone/.\n"
     ]
    }
   ],
   "source": [
    "!rankratioviz \\\n",
    "    --ranks output/ordination.txt \\\n",
    "    --table input/qiita_10422_table.biom \\\n",
    "    --sample-metadata input/qiita_10422_metadata.tsv \\\n",
    "    --feature-metadata input/taxonomy.tsv \\\n",
    "    --output-dir output/rrv_plot_standalone/"
   ]
  },
  {
   "cell_type": "markdown",
   "metadata": {},
   "source": [
    "We just generated a rankratioviz visualization in the folder `output/rrv_plot_standalone/`. This visualization is analogous to the QZV file we generated above using QIIME 2. You can view this visualization by just opening up `output/rrv_plot_standalone/index.html` in a modern web browser.\n",
    "\n",
    "That's it! If you have any more questions about using rankratioviz, feel free to contact us (see the rankratioviz README for contact information)."
   ]
  }
 ],
 "metadata": {
  "kernelspec": {
   "display_name": "Python 3",
   "language": "python",
   "name": "python3"
  },
  "language_info": {
   "codemirror_mode": {
    "name": "ipython",
    "version": 3
   },
   "file_extension": ".py",
   "mimetype": "text/x-python",
   "name": "python",
   "nbconvert_exporter": "python",
   "pygments_lexer": "ipython3",
   "version": "3.6.8"
  }
 },
 "nbformat": 4,
 "nbformat_minor": 2
}
