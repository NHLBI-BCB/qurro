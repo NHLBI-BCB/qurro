{
 "cells": [
  {
   "cell_type": "markdown",
   "metadata": {},
   "source": [
    "# Calculating Feature Log-Ratios Directly\n",
    "\n",
    "Occasionally we might be only interested in the log-ratios between two features and not the ranks. In this case, it is useful to have a way to skip the step of running DEICODE/Songbird. This also has the advantage of allowing programmatic generation (through CLI or Python) of log-ratios for further visualization/analysis. We can perform this action using **Qarcoal**.\n",
    "\n",
    "We will use the same dataset featured in the Qurro DEICODE tutorial (`deicode_example.ipynb`)\n",
    "\n",
    "## Requirements\n",
    "\n",
    "This notebook relies on QIIME 2, DEICODE, and Qurro all being installed. You should be in a QIIME 2 conda environment."
   ]
  },
  {
   "cell_type": "markdown",
   "metadata": {},
   "source": [
    "## 0. Setting Up\n",
    "\n",
    "In this section, we replace the output directory with an empty directory. This just lets us run this notebook multiple times, without any tools complaining about overwriting files."
   ]
  },
  {
   "cell_type": "code",
   "execution_count": 1,
   "metadata": {},
   "outputs": [],
   "source": [
    "# Clear the output directory so we can write these files there\n",
    "!rm -rf output/*\n",
    "# Since git doesn't keep track of empty directories, create the output/ directory if it doesn't already exist\n",
    "# (if it does already exist, -p ensures that an error won't be thrown)\n",
    "!mkdir -p output"
   ]
  },
  {
   "cell_type": "markdown",
   "metadata": {},
   "source": [
    "## 1. Using Qarcoal Through QIIME2\n",
    "\n",
    "Currently, Qarcoal can only be called through QIIME2. However, we are working on a standalone version so stay tuned."
   ]
  },
  {
   "cell_type": "code",
   "execution_count": 2,
   "metadata": {},
   "outputs": [
    {
     "name": "stdout",
     "output_type": "stream",
     "text": [
      "\u001b[32mImported ../DEICODE_sleep_apnea/input/qiita_10422_table.biom as BIOMV210DirFmt to output/qiita_10422_table.biom.qza\u001b[0m\r\n"
     ]
    }
   ],
   "source": [
    "!qiime tools import \\\n",
    "    --input-path ../DEICODE_sleep_apnea/input/qiita_10422_table.biom \\\n",
    "    --output-path output/qiita_10422_table.biom.qza \\\n",
    "    --type FeatureTable[Frequency]"
   ]
  },
  {
   "cell_type": "markdown",
   "metadata": {},
   "source": [
    "Now, we can run Qarcoal through Qiime2 on our imported BIOM table. This produces one output: a table of samples with their associated log-ratios of selected features. We will use `g__Allobaculum` as our numerator string and `g__Coprococcus` as our denominator string for demonstration."
   ]
  },
  {
   "cell_type": "code",
   "execution_count": 3,
   "metadata": {},
   "outputs": [
    {
     "name": "stdout",
     "output_type": "stream",
     "text": [
      "\u001b[32mSaved SampleData[QarcoalLogRatios] to: output/allobaculum_coprococcus_log_ratios.qza\u001b[0m\r\n"
     ]
    }
   ],
   "source": [
    "!qiime qurro qarcoal \\\n",
    "    --i-table output/qiita_10422_table.biom.qza \\\n",
    "    --m-taxonomy-file ../DEICODE_sleep_apnea/input/taxonomy.tsv \\\n",
    "    --p-num-string g__Allobaculum \\\n",
    "    --p-denom-string g__Coprococcus \\\n",
    "    --o-qarcoal-log-ratios output/allobaculum_coprococcus_log_ratios.qza"
   ]
  },
  {
   "cell_type": "markdown",
   "metadata": {},
   "source": [
    "## 2. Verifying Qarcoal Output\n",
    "\n",
    "First, we want to ensure that our results are the same as Qurro. First, we load our newly-calculated log-ratio table into Python."
   ]
  },
  {
   "cell_type": "code",
   "execution_count": 4,
   "metadata": {},
   "outputs": [],
   "source": [
    "import pandas as pd\n",
    "from qiime2 import Artifact, Metadata"
   ]
  },
  {
   "cell_type": "code",
   "execution_count": 5,
   "metadata": {},
   "outputs": [
    {
     "data": {
      "text/html": [
       "<div>\n",
       "<style scoped>\n",
       "    .dataframe tbody tr th:only-of-type {\n",
       "        vertical-align: middle;\n",
       "    }\n",
       "\n",
       "    .dataframe tbody tr th {\n",
       "        vertical-align: top;\n",
       "    }\n",
       "\n",
       "    .dataframe thead th {\n",
       "        text-align: right;\n",
       "    }\n",
       "</style>\n",
       "<table border=\"1\" class=\"dataframe\">\n",
       "  <thead>\n",
       "    <tr style=\"text-align: right;\">\n",
       "      <th></th>\n",
       "      <th>Num_Sum</th>\n",
       "      <th>Denom_Sum</th>\n",
       "      <th>log_ratio</th>\n",
       "    </tr>\n",
       "  </thead>\n",
       "  <tbody>\n",
       "    <tr>\n",
       "      <th>10422.18.F.8</th>\n",
       "      <td>19.0</td>\n",
       "      <td>162.0</td>\n",
       "      <td>-2.143157</td>\n",
       "    </tr>\n",
       "    <tr>\n",
       "      <th>10422.26.F.11</th>\n",
       "      <td>14927.0</td>\n",
       "      <td>192.0</td>\n",
       "      <td>4.353432</td>\n",
       "    </tr>\n",
       "    <tr>\n",
       "      <th>10422.25.F.10</th>\n",
       "      <td>10871.0</td>\n",
       "      <td>248.0</td>\n",
       "      <td>3.780425</td>\n",
       "    </tr>\n",
       "    <tr>\n",
       "      <th>10422.18.F.9</th>\n",
       "      <td>16.0</td>\n",
       "      <td>68.0</td>\n",
       "      <td>-1.446919</td>\n",
       "    </tr>\n",
       "    <tr>\n",
       "      <th>10422.19.F.12</th>\n",
       "      <td>26.0</td>\n",
       "      <td>1860.0</td>\n",
       "      <td>-4.270235</td>\n",
       "    </tr>\n",
       "  </tbody>\n",
       "</table>\n",
       "</div>"
      ],
      "text/plain": [
       "               Num_Sum  Denom_Sum  log_ratio\n",
       "10422.18.F.8      19.0      162.0  -2.143157\n",
       "10422.26.F.11  14927.0      192.0   4.353432\n",
       "10422.25.F.10  10871.0      248.0   3.780425\n",
       "10422.18.F.9      16.0       68.0  -1.446919\n",
       "10422.19.F.12     26.0     1860.0  -4.270235"
      ]
     },
     "execution_count": 5,
     "metadata": {},
     "output_type": "execute_result"
    }
   ],
   "source": [
    "qarcoal_log_ratios = Artifact.load(\"output/allobaculum_coprococcus_log_ratios.qza\")\n",
    "qarcoal_log_ratios_df = qarcoal_log_ratios.view(pd.DataFrame)\n",
    "qarcoal_log_ratios_df.head()"
   ]
  },
  {
   "cell_type": "markdown",
   "metadata": {},
   "source": [
    "### 2.A. Running DEICODE\n",
    "\n",
    "Next, we'll run DEICODE before we can run Qurro. Here we are going to use the Artifact API but you can just as easily run the following through the command line. (Please see the DEICODE example notebook for details on using DEICODE.)\n",
    "\n",
    "**NOTE**: By default, DEICODE performs filtration on your input feature table. We will override this by setting both `min-feature-count` and `min-sample-count` to 0. If you want to match the DEICODE filtration, filter your feature table to match DEICODE and pass a QIIME2 Metadata file containing the sample IDs to Qarcoal with the `--m-samples-to-use-file` flag."
   ]
  },
  {
   "cell_type": "code",
   "execution_count": 6,
   "metadata": {
    "scrolled": true
   },
   "outputs": [
    {
     "name": "stderr",
     "output_type": "stream",
     "text": [
      "/miniconda3/envs/qarcoal/lib/python3.6/site-packages/biom/table.py:4049: FutureWarning: SparseSeries is deprecated and will be removed in a future version.\n",
      "Use a Series with sparse values instead.\n",
      "\n",
      "    >>> series = pd.Series(pd.SparseArray(...))\n",
      "\n",
      "See http://pandas.pydata.org/pandas-docs/stable/user_guide/sparse.html#migrating for more.\n",
      "\n",
      "  for r in self.matrix_data.tocsr()]\n",
      "/miniconda3/envs/qarcoal/lib/python3.6/site-packages/biom/table.py:4052: FutureWarning: SparseDataFrame is deprecated and will be removed in a future version.\n",
      "Use a regular DataFrame whose columns are SparseArrays instead.\n",
      "\n",
      "See http://pandas.pydata.org/pandas-docs/stable/user_guide/sparse.html#migrating for more.\n",
      "\n",
      "  return constructor(mat, index=index, columns=columns)\n",
      "/miniconda3/envs/qarcoal/lib/python3.6/site-packages/pandas/core/sparse/frame.py:854: FutureWarning: SparseDataFrame is deprecated and will be removed in a future version.\n",
      "Use a regular DataFrame whose columns are SparseArrays instead.\n",
      "\n",
      "See http://pandas.pydata.org/pandas-docs/stable/user_guide/sparse.html#migrating for more.\n",
      "\n",
      "  default_kind=self._default_kind,\n"
     ]
    }
   ],
   "source": [
    "from qiime2.plugins import deicode\n",
    "\n",
    "table = Artifact.load(\"output/qiita_10422_table.biom.qza\")\n",
    "\n",
    "ordination, dist_matrix = deicode.actions.rpca(\n",
    "    table = table,\n",
    "    min_sample_count = 0,\n",
    "    min_feature_count = 0)"
   ]
  },
  {
   "cell_type": "markdown",
   "metadata": {},
   "source": [
    "### 2.B. Running Qurro"
   ]
  },
  {
   "cell_type": "markdown",
   "metadata": {},
   "source": [
    "We can then input the ordination into Qurro, save the visualization, and compare our results."
   ]
  },
  {
   "cell_type": "code",
   "execution_count": 7,
   "metadata": {
    "scrolled": true
   },
   "outputs": [
    {
     "name": "stderr",
     "output_type": "stream",
     "text": [
      "/miniconda3/envs/qarcoal/lib/python3.6/site-packages/qurro-0.4.0-py3.6.egg/qurro/_df_utils.py:126: FutureWarning: SparseDataFrame is deprecated and will be removed in a future version.\n",
      "Use a regular DataFrame whose columns are SparseArrays instead.\n",
      "\n",
      "See http://pandas.pydata.org/pandas-docs/stable/user_guide/sparse.html#migrating for more.\n",
      "\n",
      "  table_sdf = pd.SparseDataFrame(table.matrix_data, default_fill_value=0.0)\n",
      "/miniconda3/envs/qarcoal/lib/python3.6/site-packages/pandas/core/sparse/frame.py:257: FutureWarning: SparseSeries is deprecated and will be removed in a future version.\n",
      "Use a Series with sparse values instead.\n",
      "\n",
      "    >>> series = pd.Series(pd.SparseArray(...))\n",
      "\n",
      "See http://pandas.pydata.org/pandas-docs/stable/user_guide/sparse.html#migrating for more.\n",
      "\n",
      "  sparse_index=BlockIndex(N, blocs, blens),\n",
      "/miniconda3/envs/qarcoal/lib/python3.6/site-packages/pandas/core/frame.py:3471: FutureWarning: SparseSeries is deprecated and will be removed in a future version.\n",
      "Use a Series with sparse values instead.\n",
      "\n",
      "    >>> series = pd.Series(pd.SparseArray(...))\n",
      "\n",
      "See http://pandas.pydata.org/pandas-docs/stable/user_guide/sparse.html#migrating for more.\n",
      "\n",
      "  return klass(values, index=self.index, name=items, fastpath=True)\n",
      "/miniconda3/envs/qarcoal/lib/python3.6/site-packages/pandas/core/sparse/frame.py:785: FutureWarning: SparseDataFrame is deprecated and will be removed in a future version.\n",
      "Use a regular DataFrame whose columns are SparseArrays instead.\n",
      "\n",
      "See http://pandas.pydata.org/pandas-docs/stable/user_guide/sparse.html#migrating for more.\n",
      "\n",
      "  return self._constructor(new_arrays, index=index, columns=columns).__finalize__(\n",
      "/miniconda3/envs/qarcoal/lib/python3.6/site-packages/pandas/core/ops/__init__.py:1641: FutureWarning: SparseSeries is deprecated and will be removed in a future version.\n",
      "Use a Series with sparse values instead.\n",
      "\n",
      "    >>> series = pd.Series(pd.SparseArray(...))\n",
      "\n",
      "See http://pandas.pydata.org/pandas-docs/stable/user_guide/sparse.html#migrating for more.\n",
      "\n",
      "  return self._constructor(new_values, index=self.index, name=self.name)\n",
      "/miniconda3/envs/qarcoal/lib/python3.6/site-packages/pandas/core/sparse/frame.py:339: FutureWarning: SparseDataFrame is deprecated and will be removed in a future version.\n",
      "Use a regular DataFrame whose columns are SparseArrays instead.\n",
      "\n",
      "See http://pandas.pydata.org/pandas-docs/stable/user_guide/sparse.html#migrating for more.\n",
      "\n",
      "  default_fill_value=self.default_fill_value,\n",
      "/miniconda3/envs/qarcoal/lib/python3.6/site-packages/pandas/core/generic.py:6289: FutureWarning: SparseDataFrame is deprecated and will be removed in a future version.\n",
      "Use a regular DataFrame whose columns are SparseArrays instead.\n",
      "\n",
      "See http://pandas.pydata.org/pandas-docs/stable/user_guide/sparse.html#migrating for more.\n",
      "\n",
      "  return self._constructor(new_data).__finalize__(self)\n",
      "/miniconda3/envs/qarcoal/lib/python3.6/site-packages/pandas/core/generic.py:5884: FutureWarning: SparseSeries is deprecated and will be removed in a future version.\n",
      "Use a Series with sparse values instead.\n",
      "\n",
      "    >>> series = pd.Series(pd.SparseArray(...))\n",
      "\n",
      "See http://pandas.pydata.org/pandas-docs/stable/user_guide/sparse.html#migrating for more.\n",
      "\n",
      "  return self._constructor(new_data).__finalize__(self)\n",
      "/miniconda3/envs/qarcoal/lib/python3.6/site-packages/pandas/core/generic.py:3606: FutureWarning: SparseDataFrame is deprecated and will be removed in a future version.\n",
      "Use a regular DataFrame whose columns are SparseArrays instead.\n",
      "\n",
      "See http://pandas.pydata.org/pandas-docs/stable/user_guide/sparse.html#migrating for more.\n",
      "\n",
      "  result = self._constructor(new_data).__finalize__(self)\n"
     ]
    },
    {
     "data": {
      "text/plain": [
       "'output/qurro_viz.qzv'"
      ]
     },
     "execution_count": 7,
     "metadata": {},
     "output_type": "execute_result"
    }
   ],
   "source": [
    "from qiime2.plugins import qurro\n",
    "\n",
    "metadata = Metadata.load(\"../DEICODE_sleep_apnea/input/qiita_10422_metadata.tsv\")\n",
    "taxonomy = Metadata.load(\"../DEICODE_sleep_apnea/input/taxonomy.tsv\")\n",
    "\n",
    "qurro_viz = qurro.actions.loading_plot(\n",
    "    ranks = ordination,\n",
    "    table = table,\n",
    "    sample_metadata = metadata,\n",
    "    feature_metadata = taxonomy)\n",
    "\n",
    "qurro_viz.visualization.save(\"output/qurro_viz.qzv\")"
   ]
  },
  {
   "cell_type": "markdown",
   "metadata": {},
   "source": [
    "Open the visualization [here](https://view.qiime2.org/) and type in `g__Allobaculum` in the numerator search bar and `g__Coprococcus` in the denominator search bar. Make sure you select the option to filter features from \"Taxon\" rather than \"Feature ID.\""
   ]
  },
  {
   "cell_type": "markdown",
   "metadata": {},
   "source": [
    "![img](imgs/qurro_feature_search.png)"
   ]
  },
  {
   "cell_type": "markdown",
   "metadata": {},
   "source": [
    "Click the \"Export sample data\" button and save the resulting `sample_plot_data.tsv` file to the `output/` directory."
   ]
  },
  {
   "cell_type": "markdown",
   "metadata": {},
   "source": [
    "### 2.C. Comparing the Output of Qurro and Qarcoal\n",
    "\n",
    "We can now load the Qurro results and compare them with the Qarcoal results to make sure they match."
   ]
  },
  {
   "cell_type": "code",
   "execution_count": 8,
   "metadata": {},
   "outputs": [
    {
     "data": {
      "text/html": [
       "<div>\n",
       "<style scoped>\n",
       "    .dataframe tbody tr th:only-of-type {\n",
       "        vertical-align: middle;\n",
       "    }\n",
       "\n",
       "    .dataframe tbody tr th {\n",
       "        vertical-align: top;\n",
       "    }\n",
       "\n",
       "    .dataframe thead th {\n",
       "        text-align: right;\n",
       "    }\n",
       "</style>\n",
       "<table border=\"1\" class=\"dataframe\">\n",
       "  <thead>\n",
       "    <tr style=\"text-align: right;\">\n",
       "      <th></th>\n",
       "      <th>Current_Log_Ratio</th>\n",
       "      <th>age</th>\n",
       "      <th>age.1</th>\n",
       "    </tr>\n",
       "    <tr>\n",
       "      <th>Sample ID</th>\n",
       "      <th></th>\n",
       "      <th></th>\n",
       "      <th></th>\n",
       "    </tr>\n",
       "  </thead>\n",
       "  <tbody>\n",
       "    <tr>\n",
       "      <th>10422.21.F.3</th>\n",
       "      <td>-6.082980</td>\n",
       "      <td>11.0</td>\n",
       "      <td>11.0</td>\n",
       "    </tr>\n",
       "    <tr>\n",
       "      <th>10422.28.F.9</th>\n",
       "      <td>4.656135</td>\n",
       "      <td>14.0</td>\n",
       "      <td>14.0</td>\n",
       "    </tr>\n",
       "    <tr>\n",
       "      <th>10422.24.F.10</th>\n",
       "      <td>-4.964397</td>\n",
       "      <td>14.5</td>\n",
       "      <td>14.5</td>\n",
       "    </tr>\n",
       "    <tr>\n",
       "      <th>10422.21.F.10</th>\n",
       "      <td>NaN</td>\n",
       "      <td>14.5</td>\n",
       "      <td>14.5</td>\n",
       "    </tr>\n",
       "    <tr>\n",
       "      <th>10422.27.F.8</th>\n",
       "      <td>2.937259</td>\n",
       "      <td>13.5</td>\n",
       "      <td>13.5</td>\n",
       "    </tr>\n",
       "  </tbody>\n",
       "</table>\n",
       "</div>"
      ],
      "text/plain": [
       "               Current_Log_Ratio   age  age.1\n",
       "Sample ID                                    \n",
       "10422.21.F.3           -6.082980  11.0   11.0\n",
       "10422.28.F.9            4.656135  14.0   14.0\n",
       "10422.24.F.10          -4.964397  14.5   14.5\n",
       "10422.21.F.10                NaN  14.5   14.5\n",
       "10422.27.F.8            2.937259  13.5   13.5"
      ]
     },
     "execution_count": 8,
     "metadata": {},
     "output_type": "execute_result"
    }
   ],
   "source": [
    "qurro_log_ratios_df = pd.read_csv(\"output/sample_plot_data.tsv\", sep=\"\\t\", index_col=0)\n",
    "qurro_log_ratios_df.head()"
   ]
  },
  {
   "cell_type": "markdown",
   "metadata": {},
   "source": [
    "We see that the Qurro results have at least one NaN. This just means that for this sample, the log-ratio could not be calculated due to 0s. We can drop these from our DataFrame.\n"
   ]
  },
  {
   "cell_type": "code",
   "execution_count": 9,
   "metadata": {},
   "outputs": [],
   "source": [
    "qurro_log_ratios_df = qurro_log_ratios_df.dropna()"
   ]
  },
  {
   "cell_type": "markdown",
   "metadata": {},
   "source": [
    "First, we can get a preliminary sense of how well the two methods coincide by looking at the number of samples present."
   ]
  },
  {
   "cell_type": "code",
   "execution_count": 10,
   "metadata": {},
   "outputs": [
    {
     "data": {
      "text/plain": [
       "True"
      ]
     },
     "execution_count": 10,
     "metadata": {},
     "output_type": "execute_result"
    }
   ],
   "source": [
    "qurro_log_ratios_df.shape[0] == qarcoal_log_ratios_df.shape[0]"
   ]
  },
  {
   "cell_type": "markdown",
   "metadata": {},
   "source": [
    "That's a good sign, but let's be more rigorous and make sure the samples are the same."
   ]
  },
  {
   "cell_type": "code",
   "execution_count": 11,
   "metadata": {},
   "outputs": [
    {
     "data": {
      "text/plain": [
       "True"
      ]
     },
     "execution_count": 11,
     "metadata": {},
     "output_type": "execute_result"
    }
   ],
   "source": [
    "set(qurro_log_ratios_df.index) == set(qarcoal_log_ratios_df.index)"
   ]
  },
  {
   "cell_type": "markdown",
   "metadata": {},
   "source": [
    "Finally, let's make sure the log-ratios themselves are the same. Note that Qurro calculates log-ratios using Javascript, while Qarcoal uses Python. As a result, the individual values may differ very slightly due to implementation of the logarithm function. We will use `np.allclose` to check that the two are equal within a tolerance."
   ]
  },
  {
   "cell_type": "code",
   "execution_count": 12,
   "metadata": {},
   "outputs": [
    {
     "data": {
      "text/plain": [
       "True"
      ]
     },
     "execution_count": 12,
     "metadata": {},
     "output_type": "execute_result"
    }
   ],
   "source": [
    "from numpy import allclose\n",
    "\n",
    "qurro_values = qurro_log_ratios_df.sort_index()['Current_Log_Ratio'].to_numpy()\n",
    "qarcoal_values = qarcoal_log_ratios_df.sort_index()['log_ratio'].to_numpy()\n",
    "\n",
    "allclose(qurro_values, qarcoal_values)"
   ]
  },
  {
   "cell_type": "markdown",
   "metadata": {},
   "source": [
    "Success! Our Qarcoal-generated log-ratios are equal to our Qurro-generated ones.\n",
    "\n",
    "We hope you find Qarcoal useful, and please contact us if you having questions or suggestsion about using Qarcoal."
   ]
  },
  {
   "cell_type": "code",
   "execution_count": null,
   "metadata": {},
   "outputs": [],
   "source": []
  }
 ],
 "metadata": {
  "kernelspec": {
   "display_name": "Python 3",
   "language": "python",
   "name": "python3"
  },
  "language_info": {
   "codemirror_mode": {
    "name": "ipython",
    "version": 3
   },
   "file_extension": ".py",
   "mimetype": "text/x-python",
   "name": "python",
   "nbconvert_exporter": "python",
   "pygments_lexer": "ipython3",
   "version": "3.6.7"
  }
 },
 "nbformat": 4,
 "nbformat_minor": 2
}
