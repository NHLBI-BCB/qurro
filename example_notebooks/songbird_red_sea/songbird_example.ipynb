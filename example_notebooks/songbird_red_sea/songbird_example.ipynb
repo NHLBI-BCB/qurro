{
 "cells": [
  {
   "cell_type": "markdown",
   "metadata": {},
   "source": [
    "# Visualizing Songbird feature differentials with Qurro\n",
    "In this example, we use data from the Red Sea metagenome dataset. This particular data was obtained from [Songbird's GitHub repository in its `data/redsea` folder](https://github.com/biocore/songbird/tree/master/data/redsea), and is associated with the following paper:\n",
    "\n",
    "Thompson, L. R., Williams, G. J., Haroon, M. F., Shibl, A., Larsen, P., Shorenstein, J., ... & Stingl, U. (2017). Metagenomic covariation along densely sampled environmental gradients in the Red Sea. _The ISME journal, 11_(1), 138.\n",
    "\n",
    "The commands for running Songbird and importing the Red Sea data are based on the example usage of this dataset in the Songbird README file on its GitHub page. **Note that here we don't explicitly monitor Songbird's diagnostics regarding model fitting**, as described in [Songbird's README](https://github.com/biocore/songbird/); when using Songbird in practice, it's important to do that. (The hyperparameters we do use were set based on experimentation with Tensorboard.)\n",
    "\n",
    "## Requirements\n",
    "This notebook relies on QIIME 2, Songbird, and Qurro all being installed."
   ]
  },
  {
   "cell_type": "markdown",
   "metadata": {},
   "source": [
    "## 0. Setting up\n",
    "In this section, we replace the output directory with an empty directory. This just lets us run this notebook multiple times, without any tools complaining about overwriting files."
   ]
  },
  {
   "cell_type": "code",
   "execution_count": 1,
   "metadata": {},
   "outputs": [],
   "source": [
    "# Clear the output directory so we can write these files there\n",
    "!rm -rf output/*\n",
    "# Since git doesn't keep track of empty directories, create the output/ directory if it doesn't already exist\n",
    "# (if it does already exist, -p ensures that an error won't be thrown)\n",
    "!mkdir -p output"
   ]
  },
  {
   "cell_type": "markdown",
   "metadata": {},
   "source": [
    "## 1. Using Songbird and Qurro through QIIME 2\n",
    "You can use Songbird and Qurro inside or outside of QIIME 2. In this section, we'll use Songbird and Qurro from within QIIME 2; in the next section, we'll use these tools outside of QIIME 2.\n",
    "\n",
    "If you just installed Songbird or Qurro, it's advised that you run `qiime dev refresh-cache` on your system afterwards in order to get QIIME 2 to \"find\" these tools' QIIME 2 plugins.\n",
    "\n",
    "### 1. A. Using Songbird through QIIME 2\n",
    "In order to use this dataset's BIOM table in QIIME 2, we need to import it as a `FeatureTable[Frequency]` QIIME 2 artifact."
   ]
  },
  {
   "cell_type": "code",
   "execution_count": 2,
   "metadata": {},
   "outputs": [
    {
     "name": "stdout",
     "output_type": "stream",
     "text": [
      "\u001b[32mImported input/redsea.biom as BIOMV210DirFmt to output/redsea.biom.qza\u001b[0m\r\n"
     ]
    }
   ],
   "source": [
    "!qiime tools import \\\n",
    "    --input-path input/redsea.biom \\\n",
    "    --output-path output/redsea.biom.qza \\\n",
    "    --type FeatureTable[Frequency]"
   ]
  },
  {
   "cell_type": "markdown",
   "metadata": {},
   "source": [
    "Now, we can run Songbird through QIIME 2 on our imported BIOM table. This produces three output files, but the main one we care about for Qurro is the `FeatureData[Differential]` artifact (which will be stored in `output/differentials.qza`). This artifact contains **feature differentials**: as Songbird's documentation puts it, these correspond to \"...the ordering of the coefficients within a covariate.\"\n",
    "\n",
    "Please see [Songbird's documentation](https://github.com/biocore/songbird/) for more information about how it works and how its output files are formatted.\n",
    "\n",
    "#### Why these hyperparameters?\n",
    "These hyperparameters (in particular, `epochs` and `differential-prior`) were selected based on experimentation with Tensorboard. See Songbird's [FAQs](https://github.com/biocore/songbird/#faqs) for details on how to use Tensorboard and select these sort of hyperparameters for your own datasets (the scope of that is beyond this tutorial)."
   ]
  },
  {
   "cell_type": "code",
   "execution_count": 3,
   "metadata": {},
   "outputs": [
    {
     "name": "stdout",
     "output_type": "stream",
     "text": [
      "\u001b[31mError: QIIME 2 has no plugin/command named 'songbird'.\u001b[0m\r\n"
     ]
    }
   ],
   "source": [
    "!qiime songbird multinomial \\\n",
    "    --i-table output/redsea.biom.qza \\\n",
    "    --m-metadata-file input/redsea_metadata.txt \\\n",
    "    --p-formula \"Depth+Temperature+Salinity+Oxygen+Fluorescence+Nitrate\" \\\n",
    "    --p-epochs 10000 \\\n",
    "    --p-differential-prior 0.5 \\\n",
    "    --o-differentials output/differentials.qza \\\n",
    "    --o-regression-stats output/regression-stats.qza \\\n",
    "    --o-regression-biplot output/regression-biplot.qza"
   ]
  },
  {
   "cell_type": "markdown",
   "metadata": {},
   "source": [
    "### 1. B. Using Qurro through QIIME 2\n",
    "Since we're working with Songbird output, we use the `qiime qurro differential-plot` command."
   ]
  },
  {
   "cell_type": "code",
   "execution_count": 4,
   "metadata": {},
   "outputs": [
    {
     "name": "stdout",
     "output_type": "stream",
     "text": [
      "Usage: \u001b[34mqiime qurro differential-plot\u001b[0m [OPTIONS]\r\n",
      "\r\n",
      "  Generates an interactive visualization of feature differentials in tandem\r\n",
      "  with a visualization of the log ratios of selected features' sample\r\n",
      "  abundances.\r\n",
      "\r\n",
      "\u001b[1mInputs\u001b[0m:\r\n",
      "  \u001b[34m\u001b[4m--i-ranks\u001b[0m ARTIFACT \u001b[32mFeatureData[Differential]\u001b[0m\r\n",
      "                       Feature differentials.                       \u001b[35m[required]\u001b[0m\r\n",
      "  \u001b[34m\u001b[4m--i-table\u001b[0m ARTIFACT \u001b[32mFeatureTable[Frequency]\u001b[0m\r\n",
      "                       A BIOM table describing the abundances of the ranked\r\n",
      "                       features in samples. Note that empty samples and\r\n",
      "                       features will be removed from the Qurro visualization.\r\n",
      "                                                                    \u001b[35m[required]\u001b[0m\r\n",
      "\u001b[1mParameters\u001b[0m:\r\n",
      "  \u001b[34m\u001b[4m--m-sample-metadata-file\u001b[0m METADATA...\r\n",
      "    (multiple          \r\n",
      "     arguments will    \r\n",
      "     be merged)                                                     \u001b[35m[required]\u001b[0m\r\n",
      "  \u001b[34m--m-feature-metadata-file\u001b[0m METADATA...\r\n",
      "    (multiple          \r\n",
      "     arguments will    \r\n",
      "     be merged)                                                     \u001b[35m[optional]\u001b[0m\r\n",
      "  \u001b[34m--p-extreme-feature-count\u001b[0m INTEGER\r\n",
      "                       If specified, Qurro will only use this many \"extreme\"\r\n",
      "                       features from either end of all of the rankings. This\r\n",
      "                       is useful when dealing with huge datasets (e.g. with\r\n",
      "                       BIOM tables exceeding 1 million entries), for which\r\n",
      "                       running Qurro normally might take a long amount of time\r\n",
      "                       or crash due to memory limits. This value must be at\r\n",
      "                       least 1, and must be an integer. Note that samples\r\n",
      "                       without any observed features after this filtering step\r\n",
      "                       will be removed from the Qurro visualization, as will\r\n",
      "                       features without any observations in samples (even\r\n",
      "                       features that were not filtered due to being\r\n",
      "                       sufficiently \"extreme\").                     \u001b[35m[optional]\u001b[0m\r\n",
      "  \u001b[34m--p-debug\u001b[0m / \u001b[34m--p-no-debug\u001b[0m\r\n",
      "                       If this flag is used, Qurro will output debug\r\n",
      "                       messages. Note that you'll also need to use the\r\n",
      "                       --verbose option to see these messages.\r\n",
      "                                                              \u001b[35m[default: False]\u001b[0m\r\n",
      "\u001b[1mOutputs\u001b[0m:\r\n",
      "  \u001b[34m\u001b[4m--o-visualization\u001b[0m VISUALIZATION\r\n",
      "                                                                    \u001b[35m[required]\u001b[0m\r\n",
      "\u001b[1mMiscellaneous\u001b[0m:\r\n",
      "  \u001b[34m--output-dir\u001b[0m PATH    Output unspecified results to a directory\r\n",
      "  \u001b[34m--verbose\u001b[0m / \u001b[34m--quiet\u001b[0m  Display verbose output to stdout and/or stderr during\r\n",
      "                       execution of this action. Or silence output if\r\n",
      "                       execution is successful (silence is golden).\r\n",
      "  \u001b[34m--citations\u001b[0m          Show citations and exit.\r\n",
      "  \u001b[34m--help\u001b[0m               Show this message and exit.\r\n"
     ]
    }
   ],
   "source": [
    "!qiime qurro differential-plot --help"
   ]
  },
  {
   "cell_type": "code",
   "execution_count": 5,
   "metadata": {},
   "outputs": [
    {
     "name": "stdout",
     "output_type": "stream",
     "text": [
      "Usage: \u001b[34mqiime qurro differential-plot\u001b[0m [OPTIONS]\r\n",
      "\r\n",
      "  Generates an interactive visualization of feature differentials in tandem\r\n",
      "  with a visualization of the log ratios of selected features' sample\r\n",
      "  abundances.\r\n",
      "\r\n",
      "\u001b[1mInputs\u001b[0m:\r\n",
      "  \u001b[34m\u001b[4m--i-ranks\u001b[0m ARTIFACT \u001b[32mFeatureData[Differential]\u001b[0m\r\n",
      "                       Feature differentials.                       \u001b[35m[required]\u001b[0m\r\n",
      "  \u001b[34m\u001b[4m--i-table\u001b[0m ARTIFACT \u001b[32mFeatureTable[Frequency]\u001b[0m\r\n",
      "                       A BIOM table describing the abundances of the ranked\r\n",
      "                       features in samples. Note that empty samples and\r\n",
      "                       features will be removed from the Qurro visualization.\r\n",
      "                                                                    \u001b[35m[required]\u001b[0m\r\n",
      "\u001b[1mParameters\u001b[0m:\r\n",
      "  \u001b[34m\u001b[4m--m-sample-metadata-file\u001b[0m METADATA...\r\n",
      "    (multiple          \r\n",
      "     arguments will    \r\n",
      "     be merged)                                                     \u001b[35m[required]\u001b[0m\r\n",
      "  \u001b[34m--m-feature-metadata-file\u001b[0m METADATA...\r\n",
      "    (multiple          \r\n",
      "     arguments will    \r\n",
      "     be merged)                                                     \u001b[35m[optional]\u001b[0m\r\n",
      "  \u001b[34m--p-extreme-feature-count\u001b[0m INTEGER\r\n",
      "                       If specified, Qurro will only use this many \"extreme\"\r\n",
      "                       features from either end of all of the rankings. This\r\n",
      "                       is useful when dealing with huge datasets (e.g. with\r\n",
      "                       BIOM tables exceeding 1 million entries), for which\r\n",
      "                       running Qurro normally might take a long amount of time\r\n",
      "                       or crash due to memory limits. This value must be at\r\n",
      "                       least 1, and must be an integer. Note that samples\r\n",
      "                       without any observed features after this filtering step\r\n",
      "                       will be removed from the Qurro visualization, as will\r\n",
      "                       features without any observations in samples (even\r\n",
      "                       features that were not filtered due to being\r\n",
      "                       sufficiently \"extreme\").                     \u001b[35m[optional]\u001b[0m\r\n",
      "  \u001b[34m--p-debug\u001b[0m / \u001b[34m--p-no-debug\u001b[0m\r\n",
      "                       If this flag is used, Qurro will output debug\r\n",
      "                       messages. Note that you'll also need to use the\r\n",
      "                       --verbose option to see these messages.\r\n",
      "                                                              \u001b[35m[default: False]\u001b[0m\r\n",
      "\u001b[1mOutputs\u001b[0m:\r\n",
      "  \u001b[34m\u001b[4m--o-visualization\u001b[0m VISUALIZATION\r\n",
      "                                                                    \u001b[35m[required]\u001b[0m\r\n",
      "\u001b[1mMiscellaneous\u001b[0m:\r\n",
      "  \u001b[34m--output-dir\u001b[0m PATH    Output unspecified results to a directory\r\n",
      "  \u001b[34m--verbose\u001b[0m / \u001b[34m--quiet\u001b[0m  Display verbose output to stdout and/or stderr during\r\n",
      "                       execution of this action. Or silence output if\r\n",
      "                       execution is successful (silence is golden).\r\n",
      "  \u001b[34m--citations\u001b[0m          Show citations and exit.\r\n",
      "  \u001b[34m--help\u001b[0m               Show this message and exit.\r\n",
      "\r\n",
      "\u001b[33m                    There was a problem with the command:                     \u001b[0m\r\n",
      "\u001b[31m\u001b[1m (1/1) Invalid value for \"--i-ranks\": 'output/differentials.qza' is not a\r\n",
      "  valid filepath\u001b[0m\u001b[0m\r\n"
     ]
    }
   ],
   "source": [
    "!qiime qurro differential-plot \\\n",
    "    --i-ranks output/differentials.qza \\\n",
    "    --i-table output/redsea.biom.qza \\\n",
    "    --m-sample-metadata-file input/redsea_metadata.txt \\\n",
    "    --m-feature-metadata-file input/feature_metadata.txt \\\n",
    "    --verbose \\\n",
    "    --o-visualization output/qurro_plot_q2.qzv"
   ]
  },
  {
   "cell_type": "markdown",
   "metadata": {},
   "source": [
    "That's it! Now, we've created a QZV file (describing a Qurro visualization) at `output/qurro_plot_q2.qzv`. You can view this visualization in one of the following ways:\n",
    "  1. Upload the QZV file to [view.qiime2.org](https://view.qiime2.org).\n",
    "  2. View the QZV file using `qiime tools view`."
   ]
  },
  {
   "cell_type": "markdown",
   "metadata": {},
   "source": [
    "## 2. Using Songbird and Qurro as standalone tools\n",
    "We don't need to use Songbird and Qurro through QIIME 2; if you want, you can run these tools outside of QIIME 2. Although this means you don't have access to some of QIIME 2's functionality (e.g. provenance tracking, or artifact semantic types), the `differentials` you get should be roughly the same. (We say \"roughly\" because some of the machine learning methods used by Songbird involve randomness.)\n",
    "\n",
    "### 2. A. Using Songbird as a standalone tool"
   ]
  },
  {
   "cell_type": "code",
   "execution_count": 6,
   "metadata": {},
   "outputs": [
    {
     "name": "stdout",
     "output_type": "stream",
     "text": [
      "/bin/sh: songbird: command not found\r\n"
     ]
    }
   ],
   "source": [
    "!songbird multinomial \\\n",
    "    --input-biom input/redsea.biom \\\n",
    "    --metadata-file input/redsea_metadata.txt \\\n",
    "    --formula \"Depth+Temperature+Salinity+Oxygen+Fluorescence+Nitrate\" \\\n",
    "    --epochs 10000 \\\n",
    "    --differential-prior 0.5 \\\n",
    "    --summary-dir output/"
   ]
  },
  {
   "cell_type": "markdown",
   "metadata": {},
   "source": [
    "### 2. B. Using Qurro as a standalone tool\n",
    "When we used Qurro through QIIME 2, we had to specify the `differential-plot` command in order to let the Qurro QIIME 2 plugin know we were working with feature differentials.\n",
    "\n",
    "Now that we're running Qurro outside of QIIME 2, we don't need to specify this; Qurro can accept either feature differentials or feature loadings as input."
   ]
  },
  {
   "cell_type": "code",
   "execution_count": 7,
   "metadata": {},
   "outputs": [
    {
     "name": "stdout",
     "output_type": "stream",
     "text": [
      "Usage: qurro [OPTIONS]\r\n",
      "\r\n",
      "  Generates a visualization of feature rankings and log ratios.\r\n",
      "\r\n",
      "  The resulting visualization contains two plots. The first plot shows how\r\n",
      "  features are ranked, and the second plot shows the log ratio of \"selected\"\r\n",
      "  features' abundances within samples.\r\n",
      "\r\n",
      "  The visualization is interactive, so which features are \"selected\" to\r\n",
      "  construct log ratios -- as well as various other properties of the\r\n",
      "  visualization -- can be changed by the user.\r\n",
      "\r\n",
      "Options:\r\n",
      "  -r, --ranks TEXT                Either feature differentials or an\r\n",
      "                                  ordination containing feature loadings.\r\n",
      "                                  [required]\r\n",
      "  -t, --table TEXT                A BIOM table describing the abundances of\r\n",
      "                                  the ranked features in samples. Note that\r\n",
      "                                  empty samples and features will be removed\r\n",
      "                                  from the Qurro visualization.  [required]\r\n",
      "  -sm, --sample-metadata TEXT     Sample metadata file.  [required]\r\n",
      "  -fm, --feature-metadata TEXT    Feature metadata file.\r\n",
      "  -o, --output-dir TEXT           Directory to write the HTML/JS/... files\r\n",
      "                                  defining a Qurro visualization to. If this\r\n",
      "                                  directory already exists, files/directories\r\n",
      "                                  already within it will be overwritten if\r\n",
      "                                  necessary.  [required]\r\n",
      "  -x, --extreme-feature-count INTEGER\r\n",
      "                                  If specified, Qurro will only use this many\r\n",
      "                                  \"extreme\" features from either end of all of\r\n",
      "                                  the rankings. This is useful when dealing\r\n",
      "                                  with huge datasets (e.g. with BIOM tables\r\n",
      "                                  exceeding 1 million entries), for which\r\n",
      "                                  running Qurro normally might take a long\r\n",
      "                                  amount of time or crash due to memory\r\n",
      "                                  limits. This value must be at least 1, and\r\n",
      "                                  must be an integer. Note that samples\r\n",
      "                                  without any observed features after this\r\n",
      "                                  filtering step will be removed from the\r\n",
      "                                  Qurro visualization, as will features\r\n",
      "                                  without any observations in samples (even\r\n",
      "                                  features that were not filtered due to being\r\n",
      "                                  sufficiently \"extreme\").\r\n",
      "  -gnps, --assume-gnps-feature-metadata\r\n",
      "                                  If specified, Qurro will assume that the\r\n",
      "                                  input feature metadata was obtained from\r\n",
      "                                  GNPS. This means that Qurro will read each\r\n",
      "                                  feature's ID as \"A;B\", where A is the mass-\r\n",
      "                                  to-charge ratio of the feature\r\n",
      "                                  (corresponding to the \"parent mass\" column\r\n",
      "                                  in the feature metadata) and B is the\r\n",
      "                                  discharge time of the feature (corresponding\r\n",
      "                                  to the \"RTConsensus\" column in the feature\r\n",
      "                                  metadata). Qurro will then only annotate\r\n",
      "                                  features with their corresponding\r\n",
      "                                  \"LibraryID\" column from the feature\r\n",
      "                                  metadata.\r\n",
      "  --debug                         If this flag is used, Qurro will output\r\n",
      "                                  debug messages.\r\n",
      "  --version                       Show the version and exit.\r\n",
      "  --help                          Show this message and exit.\r\n"
     ]
    }
   ],
   "source": [
    "!qurro --help"
   ]
  },
  {
   "cell_type": "code",
   "execution_count": 8,
   "metadata": {},
   "outputs": [
    {
     "name": "stdout",
     "output_type": "stream",
     "text": [
      "Traceback (most recent call last):\r\n",
      "  File \"/anaconda3/envs/qiime2-dev/bin/qurro\", line 11, in <module>\r\n",
      "    load_entry_point('qurro', 'console_scripts', 'qurro')()\r\n",
      "  File \"/anaconda3/envs/qiime2-dev/lib/python3.6/site-packages/click/core.py\", line 764, in __call__\r\n",
      "    return self.main(*args, **kwargs)\r\n",
      "  File \"/anaconda3/envs/qiime2-dev/lib/python3.6/site-packages/click/core.py\", line 717, in main\r\n",
      "    rv = self.invoke(ctx)\r\n",
      "  File \"/anaconda3/envs/qiime2-dev/lib/python3.6/site-packages/click/core.py\", line 956, in invoke\r\n",
      "    return ctx.invoke(self.callback, **ctx.params)\r\n",
      "  File \"/anaconda3/envs/qiime2-dev/lib/python3.6/site-packages/click/core.py\", line 555, in invoke\r\n",
      "    return callback(*args, **kwargs)\r\n",
      "  File \"/Users/mfedarko/Dropbox/Work/KnightLab/qurro/qurro/scripts/_plot.py\", line 100, in plot\r\n",
      "    feature_ranks = read_rank_file(ranks)\r\n",
      "  File \"/Users/mfedarko/Dropbox/Work/KnightLab/qurro/qurro/_rank_utils.py\", line 20, in read_rank_file\r\n",
      "    rank_df = differentials_to_df(file_loc)\r\n",
      "  File \"/Users/mfedarko/Dropbox/Work/KnightLab/qurro/qurro/_rank_utils.py\", line 56, in differentials_to_df\r\n",
      "    differentials_loc, sep=\"\\t\", na_filter=False, dtype=object\r\n",
      "  File \"/anaconda3/envs/qiime2-dev/lib/python3.6/site-packages/pandas/io/parsers.py\", line 702, in parser_f\r\n",
      "    return _read(filepath_or_buffer, kwds)\r\n",
      "  File \"/anaconda3/envs/qiime2-dev/lib/python3.6/site-packages/pandas/io/parsers.py\", line 429, in _read\r\n",
      "    parser = TextFileReader(filepath_or_buffer, **kwds)\r\n",
      "  File \"/anaconda3/envs/qiime2-dev/lib/python3.6/site-packages/pandas/io/parsers.py\", line 895, in __init__\r\n",
      "    self._make_engine(self.engine)\r\n",
      "  File \"/anaconda3/envs/qiime2-dev/lib/python3.6/site-packages/pandas/io/parsers.py\", line 1122, in _make_engine\r\n",
      "    self._engine = CParserWrapper(self.f, **self.options)\r\n",
      "  File \"/anaconda3/envs/qiime2-dev/lib/python3.6/site-packages/pandas/io/parsers.py\", line 1853, in __init__\r\n",
      "    self._reader = parsers.TextReader(src, **kwds)\r\n",
      "  File \"pandas/_libs/parsers.pyx\", line 387, in pandas._libs.parsers.TextReader.__cinit__\r\n",
      "  File \"pandas/_libs/parsers.pyx\", line 705, in pandas._libs.parsers.TextReader._setup_parser_source\r\n",
      "FileNotFoundError: [Errno 2] File b'output/differentials.tsv' does not exist: b'output/differentials.tsv'\r\n"
     ]
    }
   ],
   "source": [
    "!qurro \\\n",
    "    --ranks output/differentials.tsv \\\n",
    "    --table input/redsea.biom \\\n",
    "    --sample-metadata input/redsea_metadata.txt \\\n",
    "    --feature-metadata input/feature_metadata.txt \\\n",
    "    --output-dir output/qurro_plot_standalone/"
   ]
  },
  {
   "cell_type": "markdown",
   "metadata": {},
   "source": [
    "We just generated a Qurro visualization in the folder `output/qurro_plot_standalone/`. This visualization is analogous to the QZV file we generated above using QIIME 2. You can view this visualization by just opening up `output/qurro_plot_standalone/index.html` in a modern web browser.\n",
    "\n",
    "That's it! If you have any more questions about using Qurro, feel free to contact us (see the Qurro README for contact information)."
   ]
  },
  {
   "cell_type": "code",
   "execution_count": null,
   "metadata": {},
   "outputs": [],
   "source": []
  }
 ],
 "metadata": {
  "kernelspec": {
   "display_name": "Python 3",
   "language": "python",
   "name": "python3"
  },
  "language_info": {
   "codemirror_mode": {
    "name": "ipython",
    "version": 3
   },
   "file_extension": ".py",
   "mimetype": "text/x-python",
   "name": "python",
   "nbconvert_exporter": "python",
   "pygments_lexer": "ipython3",
   "version": "3.6.8"
  }
 },
 "nbformat": 4,
 "nbformat_minor": 2
}
