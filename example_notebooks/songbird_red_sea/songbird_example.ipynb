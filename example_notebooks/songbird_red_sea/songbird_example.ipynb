{
 "cells": [
  {
   "cell_type": "markdown",
   "metadata": {},
   "source": [
    "# Visualizing songbird feature ranks with rankratioviz\n",
    "In this example, we use data from the Red Sea metagenome dataset. This particular data was obtained from [Songbird's GitHub repository in its `data/redsea` folder](https://github.com/biocore/songbird/tree/master/data/redsea), and is associated with the following paper:\n",
    "\n",
    "Thompson, L. R., Williams, G. J., Haroon, M. F., Shibl, A., Larsen, P., Shorenstein, J., ... & Stingl, U. (2017). Metagenomic covariation along densely sampled environmental gradients in the Red Sea. _The ISME journal, 11_(1), 138.\n",
    "\n",
    "The commands for running songbird and importing the Red Sea data are based on the example usage of this dataset in the songbird README file on its GitHub page.\n",
    "\n",
    "## Requirements\n",
    "This notebook relies on QIIME 2, songbird, and rankratioviz all being installed."
   ]
  },
  {
   "cell_type": "markdown",
   "metadata": {},
   "source": [
    "## 0. Setting up\n",
    "In this section, we replace the output directory with an empty directory. This just lets us run this notebook multiple times, without any tools complaining about overwriting files."
   ]
  },
  {
   "cell_type": "code",
   "execution_count": 1,
   "metadata": {},
   "outputs": [],
   "source": [
    "# Clear the output directory so we can write these files there\n",
    "!rm -rf output/*\n",
    "# Since git doesn't keep track of empty directories, create the output/ directory if it doesn't already exist\n",
    "# (if it does already exist, -p ensures that an error won't be thrown)\n",
    "!mkdir -p output"
   ]
  },
  {
   "cell_type": "markdown",
   "metadata": {},
   "source": [
    "## 1. Using songbird and rankratioviz through QIIME 2\n",
    "You can use songbird and rankratioviz inside or outside of QIIME 2. In this section, we'll use songbird and rankratioviz from within QIIME 2; in the next section, we'll use these tools outside of QIIME 2.\n",
    "\n",
    "If you just installed songbird or rankratioviz, it's advised that you run `qiime dev refresh-cache` on your system afterwards in order to get QIIME 2 to \"find\" these tools' QIIME 2 plugins.\n",
    "\n",
    "### 1. A. Using songbird through QIIME 2\n",
    "In order to use this dataset's BIOM table in QIIME 2, we need to import it as a `FeatureTable[Frequency]` QIIME 2 artifact."
   ]
  },
  {
   "cell_type": "code",
   "execution_count": 2,
   "metadata": {},
   "outputs": [
    {
     "name": "stdout",
     "output_type": "stream",
     "text": [
      "\u001b[32mImported input/redsea.biom as BIOMV210DirFmt to output/redsea.biom.qza\u001b[0m\r\n"
     ]
    }
   ],
   "source": [
    "!qiime tools import \\\n",
    "    --input-path input/redsea.biom \\\n",
    "    --output-path output/redsea.biom.qza \\\n",
    "    --type FeatureTable[Frequency]"
   ]
  },
  {
   "cell_type": "markdown",
   "metadata": {},
   "source": [
    "Now, we can run songbird through QIIME 2 on our imported BIOM table. This produces three output files, but the main one we care about for rankratioviz is the `FeatureData[Differential]` artifact (which will be stored in `output/differentials.qza`). This artifact contains **feature rankings**: as songbird's documentation puts it, these correspond to \"...the ordering of the coefficients within a covariate.\"\n",
    "\n",
    "Please see [songbird's documentation](https://github.com/biocore/songbird/) for more information about how it works and how its output files are formatted."
   ]
  },
  {
   "cell_type": "code",
   "execution_count": 3,
   "metadata": {},
   "outputs": [
    {
     "name": "stdout",
     "output_type": "stream",
     "text": [
      "\u001b[32mSaved FeatureData[Differential] to: output/differentials.qza\u001b[0m\r\n",
      "\u001b[32mSaved SampleData[SongbirdStats] to: output/regression-stats.qza\u001b[0m\r\n",
      "\u001b[32mSaved PCoAResults % Properties(['biplot']) to: output/regression-biplot.qza\u001b[0m\r\n"
     ]
    }
   ],
   "source": [
    "!qiime songbird multinomial \\\n",
    "    --i-table output/redsea.biom.qza \\\n",
    "    --m-metadata-file input/redsea_metadata.txt \\\n",
    "    --p-formula \"Depth+Temperature+Salinity+Oxygen+Fluorescence+Nitrate\" \\\n",
    "    --o-differentials output/differentials.qza \\\n",
    "    --o-regression-stats output/regression-stats.qza \\\n",
    "    --o-regression-biplot output/regression-biplot.qza"
   ]
  },
  {
   "cell_type": "markdown",
   "metadata": {},
   "source": [
    "### 1. B. Using rankratioviz through QIIME 2\n",
    "Since we're working with songbird output, we use the `qiime rankratioviz supervised-rank-plot` command.\n",
    "\n",
    "**Note** that songbird must be installed on your system for the `qiime rankratioviz supervised-rank-plot` command to be available; if songbird isn't installed, then running `qiime rankratioviz --help` will only show the `unsupervised-rank-plot` command. (If you were able to run the `qiime songbird` command in the previous section, you should be fine.)"
   ]
  },
  {
   "cell_type": "code",
   "execution_count": 4,
   "metadata": {},
   "outputs": [
    {
     "name": "stdout",
     "output_type": "stream",
     "text": [
      "Usage: qiime rankratioviz supervised-rank-plot [OPTIONS]\r\n",
      "\r\n",
      "  Generates an interactive visualization of songbird feature rankings in\r\n",
      "  tandem with a visualization of the log ratios of selected features' sample\r\n",
      "  abundances.\r\n",
      "\r\n",
      "Options:\r\n",
      "  --i-ranks ARTIFACT PATH FeatureData[Differential]\r\n",
      "                                  A differentials file describing feature\r\n",
      "                                  rankings produced by songbird.  [required]\r\n",
      "  --i-table ARTIFACT PATH FeatureTable[Frequency]\r\n",
      "                                  A BIOM table describing the abundances of\r\n",
      "                                  the ranked features in samples.  [required]\r\n",
      "  --m-sample-metadata-file MULTIPLE FILE\r\n",
      "                                  Metadata file or artifact viewable as\r\n",
      "                                  metadata. This option may be supplied\r\n",
      "                                  multiple times to merge metadata.\r\n",
      "                                  [required]\r\n",
      "  --m-feature-metadata-file MULTIPLE FILE\r\n",
      "                                  Metadata file or artifact viewable as\r\n",
      "                                  metadata. This option may be supplied\r\n",
      "                                  multiple times to merge metadata.\r\n",
      "                                  [optional]\r\n",
      "  --p-extreme-feature-count INTEGER\r\n",
      "                                  If specified, rankratioviz will only use\r\n",
      "                                  this many \"extreme\" features from either end\r\n",
      "                                  of all of the rankings. This is useful when\r\n",
      "                                  dealing with huge datasets (e.g. with BIOM\r\n",
      "                                  tables exceeding 1 million entries), for\r\n",
      "                                  which running rankratioviz normally might\r\n",
      "                                  take a long amount of time or crash due to\r\n",
      "                                  memory limits. Additionally, following this\r\n",
      "                                  feature-filtering step, all \"empty\" samples\r\n",
      "                                  (i.e. those containing zeroes for every\r\n",
      "                                  remaining feature) will be removed from the\r\n",
      "                                  visualization.  [optional]\r\n",
      "  --o-visualization VISUALIZATION PATH\r\n",
      "                                  [required if not passing --output-dir]\r\n",
      "  --output-dir DIRECTORY          Output unspecified results to a directory\r\n",
      "  --cmd-config FILE               Use config file for command options\r\n",
      "  --verbose                       Display verbose output to stdout and/or\r\n",
      "                                  stderr during execution of this action.\r\n",
      "                                  [default: False]\r\n",
      "  --quiet                         Silence output if execution is successful\r\n",
      "                                  (silence is golden).  [default: False]\r\n",
      "  --citations                     Show citations and exit.\r\n",
      "  --help                          Show this message and exit.\r\n"
     ]
    }
   ],
   "source": [
    "!qiime rankratioviz supervised-rank-plot --help"
   ]
  },
  {
   "cell_type": "code",
   "execution_count": 5,
   "metadata": {},
   "outputs": [
    {
     "name": "stdout",
     "output_type": "stream",
     "text": [
      "\u001b[32mSaved Visualization to: output/rrv_plot_q2.qzv\u001b[0m\r\n"
     ]
    }
   ],
   "source": [
    "!qiime rankratioviz supervised-rank-plot \\\n",
    "    --i-ranks output/differentials.qza \\\n",
    "    --i-table output/redsea.biom.qza \\\n",
    "    --m-sample-metadata-file input/redsea_metadata.txt \\\n",
    "    --m-feature-metadata-file input/feature_metadata.txt \\\n",
    "    --o-visualization output/rrv_plot_q2.qzv"
   ]
  },
  {
   "cell_type": "markdown",
   "metadata": {},
   "source": [
    "That's it! Now, we've created a QZV file (describing a rankratioviz visualization) at `output/rrv_plot_q2.qzv`. You can view this visualization in one of the following ways:\n",
    "  1. Upload the QZV file to [view.qiime2.org](https://view.qiime2.org).\n",
    "  2. View the QZV file using `qiime tools view`."
   ]
  },
  {
   "cell_type": "markdown",
   "metadata": {},
   "source": [
    "## 2. Using songbird and rankratioviz as standalone tools\n",
    "We don't need to use songbird and rankratioviz through QIIME 2; if you want, you can run these tools outside of QIIME 2. Although this means you don't have access to some of QIIME 2's functionality (e.g. provenance tracking, or artifact semantic types), the `differentials` you get should be roughly the same. (We say \"roughly\" because some of the machine learning methods used by songbird involve randomness.)\n",
    "\n",
    "### 2. A. Using songbird as a standalone tool"
   ]
  },
  {
   "cell_type": "code",
   "execution_count": 6,
   "metadata": {},
   "outputs": [
    {
     "name": "stdout",
     "output_type": "stream",
     "text": [
      "2019-05-13 01:10:05.637409: I tensorflow/core/platform/cpu_feature_guard.cc:141] Your CPU supports instructions that this TensorFlow binary was not compiled to use: SSE4.1 SSE4.2 AVX\r\n",
      "2019-05-13 01:10:05.637786: I tensorflow/core/common_runtime/process_util.cc:71] Creating new thread pool with default inter op setting: 8. Tune using inter_op_parallelism_threads for best performance.\r\n",
      "WARNING:tensorflow:From /Users/mfedarko/Software/forks/songbird/songbird/multinomial.py:75: multinomial (from tensorflow.python.ops.random_ops) is deprecated and will be removed in a future version.\r\n",
      "Instructions for updating:\r\n",
      "Use tf.random.categorical instead.\r\n",
      "WARNING:tensorflow:From /anaconda3/envs/q2-2019.1/lib/python3.6/site-packages/tensorflow/python/framework/op_def_library.py:263: colocate_with (from tensorflow.python.framework.ops) is deprecated and will be removed in a future version.\r\n",
      "Instructions for updating:\r\n",
      "Colocations handled automatically by placer.\r\n",
      "WARNING:tensorflow:From /Users/mfedarko/Software/forks/songbird/songbird/multinomial.py:91: Normal.__init__ (from tensorflow.python.ops.distributions.normal) is deprecated and will be removed after 2019-01-01.\r\n",
      "Instructions for updating:\r\n",
      "The TensorFlow Distributions library has moved to TensorFlow Probability (https://github.com/tensorflow/probability). You should update all references to use `tfp.distributions` instead of `tf.distributions`.\r\n",
      "WARNING:tensorflow:From /anaconda3/envs/q2-2019.1/lib/python3.6/site-packages/tensorflow/python/ops/distributions/normal.py:160: Distribution.__init__ (from tensorflow.python.ops.distributions.distribution) is deprecated and will be removed after 2019-01-01.\r\n",
      "Instructions for updating:\r\n",
      "The TensorFlow Distributions library has moved to TensorFlow Probability (https://github.com/tensorflow/probability). You should update all references to use `tfp.distributions` instead of `tf.distributions`.\r\n",
      "WARNING:tensorflow:From /Users/mfedarko/Software/forks/songbird/songbird/multinomial.py:100: Multinomial.__init__ (from tensorflow.python.ops.distributions.multinomial) is deprecated and will be removed after 2019-01-01.\r\n",
      "Instructions for updating:\r\n",
      "The TensorFlow Distributions library has moved to TensorFlow Probability (https://github.com/tensorflow/probability). You should update all references to use `tfp.distributions` instead of `tf.distributions`.\r\n",
      "WARNING:tensorflow:From /anaconda3/envs/q2-2019.1/lib/python3.6/site-packages/tensorflow/python/ops/math_ops.py:3066: to_int32 (from tensorflow.python.ops.math_ops) is deprecated and will be removed in a future version.\r\n",
      "Instructions for updating:\r\n",
      "Use tf.cast instead.\r\n",
      "100%|██████████████████████████████████████| 8000/8000 [00:13<00:00, 590.29it/s]\r\n"
     ]
    }
   ],
   "source": [
    "!songbird multinomial \\\n",
    "    --input-biom input/redsea.biom \\\n",
    "    --metadata-file input/redsea_metadata.txt \\\n",
    "    --formula \"Depth+Temperature+Salinity+Oxygen+Fluorescence+Nitrate\" \\\n",
    "    --summary-dir output/"
   ]
  },
  {
   "cell_type": "markdown",
   "metadata": {},
   "source": [
    "### 2. B. Using rankratioviz as a standalone tool\n",
    "When we used rankratioviz through QIIME 2, we had to specify the `supervised-rank-plot` command in order to let the rankratioviz QIIME 2 plugin know we were working with songbird outputs.\n",
    "\n",
    "Since we're running rankratioviz by itself, we don't need to specify this; rankratioviz can accept either songbird or DEICODE \"ranks\" as input. (An added benefit of this is that you don't need to have songbird installed in order to run rankratioviz on existing songbird output outside of QIIME 2.)"
   ]
  },
  {
   "cell_type": "code",
   "execution_count": 7,
   "metadata": {},
   "outputs": [
    {
     "name": "stdout",
     "output_type": "stream",
     "text": [
      "Usage: rankratioviz [OPTIONS]\r\n",
      "\r\n",
      "  Generates a visualization of feature rankings and log ratios.\r\n",
      "\r\n",
      "  The resulting visualization contains two plots. The first plot shows how\r\n",
      "  features are ranked, and the second plot shows the log ratio of \"selected\"\r\n",
      "  features' abundances within samples.\r\n",
      "\r\n",
      "  The visualization is interactive, so which features are \"selected\" to\r\n",
      "  construct log ratios -- as well as various other properties of the\r\n",
      "  visualization -- can be changed by the user.\r\n",
      "\r\n",
      "Options:\r\n",
      "  -r, --ranks TEXT                Differentials output from songbird or\r\n",
      "                                  Ordination output from DEICODE.  [required]\r\n",
      "  -t, --table TEXT                A BIOM table describing the abundances of\r\n",
      "                                  the ranked features in samples.  [required]\r\n",
      "  -fm, --feature-metadata TEXT    Feature metadata file.\r\n",
      "  -sm, --sample-metadata TEXT     Sample metadata file.  [required]\r\n",
      "  -o, --output-dir TEXT           Location of output files.  [required]\r\n",
      "  -x, --extreme-feature-count INTEGER\r\n",
      "                                  If specified, rankratioviz will only use\r\n",
      "                                  this many \"extreme\" features from either end\r\n",
      "                                  of all of the rankings. This is useful when\r\n",
      "                                  dealing with huge datasets (e.g. with BIOM\r\n",
      "                                  tables exceeding 1 million entries), for\r\n",
      "                                  which running rankratioviz normally might\r\n",
      "                                  take a long amount of time or crash due to\r\n",
      "                                  memory limits. Additionally, following this\r\n",
      "                                  feature-filtering step, all \"empty\" samples\r\n",
      "                                  (i.e. those containing zeroes for every\r\n",
      "                                  remaining feature) will be removed from the\r\n",
      "                                  visualization.\r\n",
      "  -gnps, --assume-gnps-feature-metadata\r\n",
      "                                  If specified, rankratioviz will assume that\r\n",
      "                                  the input feature metadata was obtained from\r\n",
      "                                  GNPS. This means that rankratioviz will read\r\n",
      "                                  each feature's ID as \"A;B\", where A is the\r\n",
      "                                  mass-to-charge ratio of the feature\r\n",
      "                                  (corresponding to the \"parent mass\" column\r\n",
      "                                  in the feature metadata) and B is the\r\n",
      "                                  discharge time of the feature (corresponding\r\n",
      "                                  to the \"RTConsensus\" column in the feature\r\n",
      "                                  metadata). rankratioviz will then only\r\n",
      "                                  annotate feature IDs with their\r\n",
      "                                  corresponding \"LibraryID\" column in the\r\n",
      "                                  feature metadata file.\r\n",
      "  -v, --verbose                   If passed, this will output debug messages.\r\n",
      "  --help                          Show this message and exit.\r\n"
     ]
    }
   ],
   "source": [
    "!rankratioviz --help"
   ]
  },
  {
   "cell_type": "code",
   "execution_count": 8,
   "metadata": {},
   "outputs": [
    {
     "name": "stdout",
     "output_type": "stream",
     "text": [
      "Successfully generated a visualization in the folder output/rrv_plot_standalone/.\r\n"
     ]
    }
   ],
   "source": [
    "!rankratioviz \\\n",
    "    --ranks output/differentials.tsv \\\n",
    "    --table input/redsea.biom \\\n",
    "    --sample-metadata input/redsea_metadata.txt \\\n",
    "    --feature-metadata input/feature_metadata.txt \\\n",
    "    --output-dir output/rrv_plot_standalone/"
   ]
  },
  {
   "cell_type": "markdown",
   "metadata": {},
   "source": [
    "We just generated a rankratioviz visualization in the folder `output/rrv_plot_standalone/`. This visualization is analogous to the QZV file we generated above using QIIME 2. You can view this visualization by just opening up `output/rrv_plot_standalone/index.html` in a modern web browser.\n",
    "\n",
    "That's it! If you have any more questions about using rankratioviz, feel free to contact us (see the rankratioviz README for contact information)."
   ]
  }
 ],
 "metadata": {
  "kernelspec": {
   "display_name": "Python 3",
   "language": "python",
   "name": "python3"
  },
  "language_info": {
   "codemirror_mode": {
    "name": "ipython",
    "version": 3
   },
   "file_extension": ".py",
   "mimetype": "text/x-python",
   "name": "python",
   "nbconvert_exporter": "python",
   "pygments_lexer": "ipython3",
   "version": "3.6.5"
  }
 },
 "nbformat": 4,
 "nbformat_minor": 2
}
