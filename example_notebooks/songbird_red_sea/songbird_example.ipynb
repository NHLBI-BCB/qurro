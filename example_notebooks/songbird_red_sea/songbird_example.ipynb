{
 "cells": [
  {
   "cell_type": "markdown",
   "metadata": {},
   "source": [
    "# Visualizing Songbird feature differentials with Qurro\n",
    "In this example, we use data from the Red Sea metagenome dataset. This particular data was obtained from [Songbird's GitHub repository in its `data/redsea` folder](https://github.com/biocore/songbird/tree/master/data/redsea), and is associated with the following paper:\n",
    "\n",
    "Thompson, L. R., Williams, G. J., Haroon, M. F., Shibl, A., Larsen, P., Shorenstein, J., ... & Stingl, U. (2017). Metagenomic covariation along densely sampled environmental gradients in the Red Sea. _The ISME journal, 11_(1), 138.\n",
    "\n",
    "The commands for running Songbird and importing the Red Sea data are based on the example usage of this dataset in the Songbird README file on its GitHub page. **Note that here we don't explicitly monitor Songbird's diagnostics regarding model fitting**, as described in [Songbird's README](https://github.com/biocore/songbird/); when using Songbird in practice, it's important to do that. (The hyperparameters we do use were set based on experimentation with Tensorboard.)\n",
    "\n",
    "## Requirements\n",
    "This notebook relies on QIIME 2, Songbird, and Qurro all being installed. You should be in a QIIME 2 conda environment."
   ]
  },
  {
   "cell_type": "markdown",
   "metadata": {},
   "source": [
    "## 0. Setting up\n",
    "In this section, we replace the output directory with an empty directory. This just lets us run this notebook multiple times, without any tools complaining about overwriting files."
   ]
  },
  {
   "cell_type": "code",
   "execution_count": 1,
   "metadata": {},
   "outputs": [],
   "source": [
    "# Clear the output directory so we can write these files there\n",
    "!rm -rf output/*\n",
    "# Since git doesn't keep track of empty directories, create the output/ directory if it doesn't already exist\n",
    "# (if it does already exist, -p ensures that an error won't be thrown)\n",
    "!mkdir -p output"
   ]
  },
  {
   "cell_type": "markdown",
   "metadata": {},
   "source": [
    "## 1. Using Songbird and Qurro through QIIME 2\n",
    "You can use Songbird and Qurro inside or outside of QIIME 2. In this section, we'll use Songbird and Qurro from within QIIME 2; in the next section, we'll use these tools outside of QIIME 2.\n",
    "\n",
    "If you just installed Songbird or Qurro, it's advised that you run `qiime dev refresh-cache` on your system afterwards in order to get QIIME 2 to \"find\" these tools' QIIME 2 plugins.\n",
    "\n",
    "### 1. A. Using Songbird through QIIME 2\n",
    "In order to use this dataset's BIOM table in QIIME 2, we need to import it as a `FeatureTable[Frequency]` QIIME 2 artifact."
   ]
  },
  {
   "cell_type": "code",
   "execution_count": 2,
   "metadata": {},
   "outputs": [
    {
     "name": "stdout",
     "output_type": "stream",
     "text": [
      "\u001b[32mImported input/redsea.biom as BIOMV210DirFmt to output/redsea.biom.qza\u001b[0m\r\n"
     ]
    }
   ],
   "source": [
    "!qiime tools import \\\n",
    "    --input-path input/redsea.biom \\\n",
    "    --output-path output/redsea.biom.qza \\\n",
    "    --type FeatureTable[Frequency]"
   ]
  },
  {
   "cell_type": "markdown",
   "metadata": {},
   "source": [
    "Now, we can run Songbird through QIIME 2 on our imported BIOM table. This produces three output files, but the main one we care about for Qurro is the `FeatureData[Differential]` artifact (which will be stored in `output/differentials.qza`). This artifact contains **feature differentials**: as Songbird's documentation puts it, these correspond to \"...the ordering of the coefficients within a covariate.\"\n",
    "\n",
    "Please see [Songbird's documentation](https://github.com/biocore/songbird/) for more information about how it works and how its output files are formatted.\n",
    "\n",
    "#### Why these hyperparameters?\n",
    "These hyperparameters (in particular, `epochs` and `differential-prior`) were selected based on experimentation with Tensorboard. See Songbird's [FAQs](https://github.com/biocore/songbird/#faqs) for details on how to use Tensorboard and select these sort of hyperparameters for your own datasets (the scope of that is beyond this tutorial)."
   ]
  },
  {
   "cell_type": "code",
   "execution_count": 3,
   "metadata": {},
   "outputs": [
    {
     "name": "stdout",
     "output_type": "stream",
     "text": [
      "\u001b[32mSaved FeatureData[Differential] to: output/differentials.qza\u001b[0m\r\n",
      "\u001b[32mSaved SampleData[SongbirdStats] to: output/regression-stats.qza\u001b[0m\r\n",
      "\u001b[32mSaved PCoAResults % Properties('biplot') to: output/regression-biplot.qza\u001b[0m\r\n"
     ]
    }
   ],
   "source": [
    "!qiime songbird multinomial \\\n",
    "    --i-table output/redsea.biom.qza \\\n",
    "    --m-metadata-file input/redsea_metadata.txt \\\n",
    "    --p-formula \"Depth+Temperature+Salinity+Oxygen+Fluorescence+Nitrate\" \\\n",
    "    --p-epochs 10000 \\\n",
    "    --p-differential-prior 0.5 \\\n",
    "    --o-differentials output/differentials.qza \\\n",
    "    --o-regression-stats output/regression-stats.qza \\\n",
    "    --o-regression-biplot output/regression-biplot.qza"
   ]
  },
  {
   "cell_type": "markdown",
   "metadata": {},
   "source": [
    "### 1. B. Using Qurro through QIIME 2\n",
    "Since our \"feature rankings\" are the (sorted) feature differentials that Songbird just produced, we'll use the `qiime qurro differential-plot` command."
   ]
  },
  {
   "cell_type": "code",
   "execution_count": 4,
   "metadata": {},
   "outputs": [
    {
     "name": "stdout",
     "output_type": "stream",
     "text": [
      "Usage: \u001b[34mqiime qurro differential-plot\u001b[0m [OPTIONS]\r\n",
      "\r\n",
      "  Generates an interactive visualization of feature differentials in tandem\r\n",
      "  with a visualization of the log-ratios of selected features' sample\r\n",
      "  abundances.\r\n",
      "\r\n",
      "\u001b[1mInputs\u001b[0m:\r\n",
      "  \u001b[34m\u001b[4m--i-ranks\u001b[0m ARTIFACT \u001b[32mFeatureData[Differential]\u001b[0m\r\n",
      "                       Feature differentials.                       \u001b[35m[required]\u001b[0m\r\n",
      "  \u001b[34m\u001b[4m--i-table\u001b[0m ARTIFACT \u001b[32mFeatureTable[Frequency]\u001b[0m\r\n",
      "                       A BIOM table describing the abundances of the ranked\r\n",
      "                       features in samples. Note that empty samples and\r\n",
      "                       features will be removed from the Qurro visualization.\r\n",
      "                                                                    \u001b[35m[required]\u001b[0m\r\n",
      "\u001b[1mParameters\u001b[0m:\r\n",
      "  \u001b[34m\u001b[4m--m-sample-metadata-file\u001b[0m METADATA...\r\n",
      "    (multiple          Sample metadata. In Qurro visualizations, you can use\r\n",
      "     arguments will    sample metadata fields to change the x-axis and colors\r\n",
      "     be merged)        in the sample plot.                          \u001b[35m[required]\u001b[0m\r\n",
      "  \u001b[34m--m-feature-metadata-file\u001b[0m METADATA...\r\n",
      "    (multiple          Feature metadata (for example, if your features are\r\n",
      "     arguments will    ASVs or OTUs, this could be taxonomy). You can use\r\n",
      "     be merged)        feature metadata fields to filter features in the rank\r\n",
      "                       plot when selecting log-ratios.              \u001b[35m[optional]\u001b[0m\r\n",
      "  \u001b[34m--p-extreme-feature-count\u001b[0m INTEGER\r\n",
      "                       If specified, Qurro will only use this many \"extreme\"\r\n",
      "                       features from both ends of all of the rankings. This is\r\n",
      "                       useful when dealing with huge datasets (e.g. with BIOM\r\n",
      "                       tables exceeding 1 million entries), for which running\r\n",
      "                       Qurro normally might take a long amount of time or\r\n",
      "                       crash due to memory limits. Note that the automatic\r\n",
      "                       removal of empty samples and features from the table\r\n",
      "                       will be done *after* this filtering step.    \u001b[35m[optional]\u001b[0m\r\n",
      "  \u001b[34m--p-debug\u001b[0m / \u001b[34m--p-no-debug\u001b[0m\r\n",
      "                       If this flag is used, Qurro will output debug\r\n",
      "                       messages. Note that you'll also need to use the\r\n",
      "                       --verbose option to see these messages.\r\n",
      "                                                              \u001b[35m[default: False]\u001b[0m\r\n",
      "\u001b[1mOutputs\u001b[0m:\r\n",
      "  \u001b[34m\u001b[4m--o-visualization\u001b[0m VISUALIZATION\r\n",
      "                                                                    \u001b[35m[required]\u001b[0m\r\n",
      "\u001b[1mMiscellaneous\u001b[0m:\r\n",
      "  \u001b[34m--output-dir\u001b[0m PATH    Output unspecified results to a directory\r\n",
      "  \u001b[34m--verbose\u001b[0m / \u001b[34m--quiet\u001b[0m  Display verbose output to stdout and/or stderr during\r\n",
      "                       execution of this action. Or silence output if\r\n",
      "                       execution is successful (silence is golden).\r\n",
      "  \u001b[34m--citations\u001b[0m          Show citations and exit.\r\n",
      "  \u001b[34m--help\u001b[0m               Show this message and exit.\r\n"
     ]
    }
   ],
   "source": [
    "!qiime qurro differential-plot --help"
   ]
  },
  {
   "cell_type": "code",
   "execution_count": 5,
   "metadata": {},
   "outputs": [
    {
     "name": "stdout",
     "output_type": "stream",
     "text": [
      "\u001b[32mSaved Visualization to: output/qurro_plot_q2.qzv\u001b[0m\r\n"
     ]
    }
   ],
   "source": [
    "!qiime qurro differential-plot \\\n",
    "    --i-ranks output/differentials.qza \\\n",
    "    --i-table output/redsea.biom.qza \\\n",
    "    --m-sample-metadata-file input/redsea_metadata.txt \\\n",
    "    --m-feature-metadata-file input/feature_metadata.txt \\\n",
    "    --verbose \\\n",
    "    --o-visualization output/qurro_plot_q2.qzv"
   ]
  },
  {
   "cell_type": "markdown",
   "metadata": {},
   "source": [
    "That's it! Now, we've created a QZV file (describing a Qurro visualization) at `output/qurro_plot_q2.qzv`. You can view this visualization in one of the following ways:\n",
    "  1. Upload the QZV file to [view.qiime2.org](https://view.qiime2.org).\n",
    "  2. View the QZV file using `qiime tools view`."
   ]
  },
  {
   "cell_type": "markdown",
   "metadata": {},
   "source": [
    "## 2. Using Songbird and Qurro as standalone tools\n",
    "We don't need to use Songbird and Qurro through QIIME 2; if you want, you can run these tools outside of QIIME 2. Although this means you don't have access to some of QIIME 2's functionality (e.g. provenance tracking, or artifact semantic types), the results you get should be roughly the same. (We say \"roughly\" because some of the machine learning methods used by Songbird involve randomness.)\n",
    "\n",
    "### 2. A. Using Songbird as a standalone tool"
   ]
  },
  {
   "cell_type": "code",
   "execution_count": 6,
   "metadata": {},
   "outputs": [
    {
     "name": "stdout",
     "output_type": "stream",
     "text": [
      "WARNING:tensorflow:From /Users/mfedarko/anaconda3/envs/qiime2-2020.2/bin/songbird:191: The name tf.Session is deprecated. Please use tf.compat.v1.Session instead.\n",
      "\n",
      "2020-03-10 15:54:17.429657: I tensorflow/compiler/xla/service/service.cc:168] XLA service 0x7f93a910c6d0 initialized for platform Host (this does not guarantee that XLA will be used). Devices:\n",
      "2020-03-10 15:54:17.429683: I tensorflow/compiler/xla/service/service.cc:176]   StreamExecutor device (0): Host, Default Version\n",
      "WARNING:tensorflow:From /Users/mfedarko/anaconda3/envs/qiime2-2020.2/bin/songbird:194: The name tf.set_random_seed is deprecated. Please use tf.compat.v1.set_random_seed instead.\n",
      "\n",
      "WARNING:tensorflow:From /Users/mfedarko/anaconda3/envs/qiime2-2020.2/lib/python3.6/site-packages/songbird/multinomial.py:70: multinomial (from tensorflow.python.ops.random_ops) is deprecated and will be removed in a future version.\n",
      "Instructions for updating:\n",
      "Use `tf.random.categorical` instead.\n",
      "WARNING:tensorflow:From /Users/mfedarko/anaconda3/envs/qiime2-2020.2/lib/python3.6/site-packages/songbird/multinomial.py:81: The name tf.random_normal is deprecated. Please use tf.random.normal instead.\n",
      "\n",
      "WARNING:tensorflow:From /Users/mfedarko/anaconda3/envs/qiime2-2020.2/lib/python3.6/site-packages/songbird/multinomial.py:86: Normal.__init__ (from tensorflow.python.ops.distributions.normal) is deprecated and will be removed after 2019-01-01.\n",
      "Instructions for updating:\n",
      "The TensorFlow Distributions library has moved to TensorFlow Probability (https://github.com/tensorflow/probability). You should update all references to use `tfp.distributions` instead of `tf.distributions`.\n",
      "WARNING:tensorflow:From /Users/mfedarko/anaconda3/envs/qiime2-2020.2/lib/python3.6/site-packages/tensorflow_core/python/ops/distributions/normal.py:160: Distribution.__init__ (from tensorflow.python.ops.distributions.distribution) is deprecated and will be removed after 2019-01-01.\n",
      "Instructions for updating:\n",
      "The TensorFlow Distributions library has moved to TensorFlow Probability (https://github.com/tensorflow/probability). You should update all references to use `tfp.distributions` instead of `tf.distributions`.\n",
      "WARNING:tensorflow:From /Users/mfedarko/anaconda3/envs/qiime2-2020.2/lib/python3.6/site-packages/songbird/multinomial.py:95: Multinomial.__init__ (from tensorflow.python.ops.distributions.multinomial) is deprecated and will be removed after 2019-01-01.\n",
      "Instructions for updating:\n",
      "The TensorFlow Distributions library has moved to TensorFlow Probability (https://github.com/tensorflow/probability). You should update all references to use `tfp.distributions` instead of `tf.distributions`.\n",
      "WARNING:tensorflow:From /Users/mfedarko/anaconda3/envs/qiime2-2020.2/lib/python3.6/site-packages/songbird/multinomial.py:110: The name tf.summary.scalar is deprecated. Please use tf.compat.v1.summary.scalar instead.\n",
      "\n",
      "WARNING:tensorflow:From /Users/mfedarko/anaconda3/envs/qiime2-2020.2/lib/python3.6/site-packages/songbird/multinomial.py:116: The name tf.train.AdamOptimizer is deprecated. Please use tf.compat.v1.train.AdamOptimizer instead.\n",
      "\n",
      "WARNING:tensorflow:From /Users/mfedarko/anaconda3/envs/qiime2-2020.2/lib/python3.6/site-packages/tensorflow_core/python/ops/clip_ops.py:301: where (from tensorflow.python.ops.array_ops) is deprecated and will be removed in a future version.\n",
      "Instructions for updating:\n",
      "Use tf.where in 2.0, which has the same broadcast rule as np.where\n",
      "WARNING:tensorflow:From /Users/mfedarko/anaconda3/envs/qiime2-2020.2/lib/python3.6/site-packages/songbird/multinomial.py:124: The name tf.summary.histogram is deprecated. Please use tf.compat.v1.summary.histogram instead.\n",
      "\n",
      "WARNING:tensorflow:From /Users/mfedarko/anaconda3/envs/qiime2-2020.2/lib/python3.6/site-packages/songbird/multinomial.py:125: The name tf.summary.merge_all is deprecated. Please use tf.compat.v1.summary.merge_all instead.\n",
      "\n",
      "WARNING:tensorflow:From /Users/mfedarko/anaconda3/envs/qiime2-2020.2/lib/python3.6/site-packages/songbird/multinomial.py:127: The name tf.summary.FileWriter is deprecated. Please use tf.compat.v1.summary.FileWriter instead.\n",
      "\n",
      "WARNING:tensorflow:From /Users/mfedarko/anaconda3/envs/qiime2-2020.2/lib/python3.6/site-packages/songbird/multinomial.py:131: The name tf.global_variables_initializer is deprecated. Please use tf.compat.v1.global_variables_initializer instead.\n",
      "\n",
      "WARNING:tensorflow:From /Users/mfedarko/anaconda3/envs/qiime2-2020.2/lib/python3.6/site-packages/songbird/multinomial.py:163: The name tf.train.Saver is deprecated. Please use tf.compat.v1.train.Saver instead.\n",
      "\n",
      "  0%|                                                 | 0/80000 [00:00<?, ?it/s]WARNING:tensorflow:From /Users/mfedarko/anaconda3/envs/qiime2-2020.2/lib/python3.6/site-packages/songbird/multinomial.py:177: The name tf.RunOptions is deprecated. Please use tf.compat.v1.RunOptions instead.\n",
      "\n",
      "WARNING:tensorflow:From /Users/mfedarko/anaconda3/envs/qiime2-2020.2/lib/python3.6/site-packages/songbird/multinomial.py:179: The name tf.RunMetadata is deprecated. Please use tf.compat.v1.RunMetadata instead.\n",
      "\n",
      "2020-03-10 15:54:17.740089: I tensorflow/core/profiler/lib/profiler_session.cc:205] Profiler session started.\n",
      " 16%|█████▋                             | 12867/80000 [00:09<00:47, 1406.20it/s]2020-03-10 15:54:27.673074: I tensorflow/core/profiler/lib/profiler_session.cc:205] Profiler session started.\n",
      " 34%|███████████▊                       | 27030/80000 [00:19<00:37, 1405.44it/s]2020-03-10 15:54:37.673738: I tensorflow/core/profiler/lib/profiler_session.cc:205] Profiler session started.\n",
      " 51%|█████████████████▋                 | 40468/80000 [00:29<00:37, 1045.44it/s]2020-03-10 15:54:47.674137: I tensorflow/core/profiler/lib/profiler_session.cc:205] Profiler session started.\n",
      " 68%|███████████████████████▋           | 54013/80000 [00:39<00:21, 1228.91it/s]2020-03-10 15:54:57.674411: I tensorflow/core/profiler/lib/profiler_session.cc:205] Profiler session started.\n",
      " 83%|█████████████████████████████      | 66489/80000 [00:49<00:11, 1138.26it/s]2020-03-10 15:55:07.674542: I tensorflow/core/profiler/lib/profiler_session.cc:205] Profiler session started.\n",
      " 99%|██████████████████████████████████▊| 79483/80000 [00:59<00:00, 1282.74it/s]2020-03-10 15:55:17.674865: I tensorflow/core/profiler/lib/profiler_session.cc:205] Profiler session started.\n",
      "100%|███████████████████████████████████| 80000/80000 [01:00<00:00, 1327.17it/s]\n",
      "WARNING:tensorflow:\n",
      "The TensorFlow contrib module will not be included in TensorFlow 2.0.\n",
      "For more information, please see:\n",
      "  * https://github.com/tensorflow/community/blob/master/rfcs/20180907-contrib-sunset.md\n",
      "  * https://github.com/tensorflow/addons\n",
      "  * https://github.com/tensorflow/io (for I/O related ops)\n",
      "If you depend on functionality not listed there, please file an issue.\n",
      "\n"
     ]
    }
   ],
   "source": [
    "!songbird multinomial \\\n",
    "    --input-biom input/redsea.biom \\\n",
    "    --metadata-file input/redsea_metadata.txt \\\n",
    "    --formula \"Depth+Temperature+Salinity+Oxygen+Fluorescence+Nitrate\" \\\n",
    "    --epochs 10000 \\\n",
    "    --differential-prior 0.5 \\\n",
    "    --summary-dir output/"
   ]
  },
  {
   "cell_type": "markdown",
   "metadata": {},
   "source": [
    "### 2. B. Using Qurro as a standalone tool\n",
    "When we used Qurro through QIIME 2, we had to specify the `differential-plot` command in order to let the Qurro QIIME 2 plugin know we were working with feature differentials.\n",
    "\n",
    "Now that we're running Qurro outside of QIIME 2, we don't need to specify this; Qurro can accept either feature differentials or feature loadings as input."
   ]
  },
  {
   "cell_type": "code",
   "execution_count": 7,
   "metadata": {},
   "outputs": [
    {
     "name": "stdout",
     "output_type": "stream",
     "text": [
      "Usage: qurro [OPTIONS]\n",
      "\n",
      "  Generates a visualization of feature rankings and log-ratios.\n",
      "\n",
      "  The resulting visualization contains two plots. The first plot shows how\n",
      "  features are ranked, and the second plot shows the log-ratio of \"selected\"\n",
      "  features' abundances within samples.\n",
      "\n",
      "  The visualization is interactive, so which features are \"selected\" to\n",
      "  construct log-ratios -- as well as various other properties of the\n",
      "  visualization -- can be changed by the user.\n",
      "\n",
      "Options:\n",
      "  -r, --ranks TEXT                Either feature differentials (contained in a\n",
      "                                  TSV file, where each row describes a feature\n",
      "                                  and each column describes a differential\n",
      "                                  field) or a scikit-bio OrdinationResults\n",
      "                                  file for a biplot (containing feature\n",
      "                                  loadings). When sorted numerically,\n",
      "                                  differentials and feature loadings alike\n",
      "                                  provide 'rankings.'  [required]\n",
      "  -t, --table TEXT                A BIOM table describing the abundances of\n",
      "                                  the ranked features in samples. Note that\n",
      "                                  empty samples and features will be removed\n",
      "                                  from the Qurro visualization.  [required]\n",
      "  -sm, --sample-metadata TEXT     Sample metadata, formatted as a TSV file\n",
      "                                  (where each row describes a sample and each\n",
      "                                  column describes a 'metadata' field, and the\n",
      "                                  first column contains sample IDs). In Qurro\n",
      "                                  visualizations, you can use sample metadata\n",
      "                                  fields to change the x-axis and colors in\n",
      "                                  the sample plot.  [required]\n",
      "  -fm, --feature-metadata TEXT    Feature metadata, formatted as a TSV file\n",
      "                                  (where each row describes a feature and each\n",
      "                                  column describes a 'metadata' field, and the\n",
      "                                  first column contains feature IDs). In Qurro\n",
      "                                  visualizations, you can use feature metadata\n",
      "                                  fields to filter features in the rank plot\n",
      "                                  when selecting log-ratios.\n",
      "  -o, --output-dir TEXT           Directory to write the HTML/JS/... files\n",
      "                                  defining a Qurro visualization to. If this\n",
      "                                  directory already exists, files/directories\n",
      "                                  already within it will be overwritten if\n",
      "                                  necessary. Note that you need to keep the\n",
      "                                  files in this directory together -- moving\n",
      "                                  the index.html file in this directory to\n",
      "                                  another location, without also moving the\n",
      "                                  JS/etc. files, will break the visualization.\n",
      "                                  [required]\n",
      "  -x, --extreme-feature-count INTEGER\n",
      "                                  If specified, Qurro will only use this many\n",
      "                                  \"extreme\" features from both ends of all of\n",
      "                                  the rankings. This is useful when dealing\n",
      "                                  with huge datasets (e.g. with BIOM tables\n",
      "                                  exceeding 1 million entries), for which\n",
      "                                  running Qurro normally might take a long\n",
      "                                  amount of time or crash due to memory\n",
      "                                  limits. Note that the automatic removal of\n",
      "                                  empty samples and features from the table\n",
      "                                  will be done *after* this filtering step.\n",
      "  --debug                         If this flag is used, Qurro will output\n",
      "                                  debug messages.\n",
      "  --version                       Show the version and exit.\n",
      "  --help                          Show this message and exit.\n"
     ]
    }
   ],
   "source": [
    "!qurro --help"
   ]
  },
  {
   "cell_type": "code",
   "execution_count": 8,
   "metadata": {},
   "outputs": [
    {
     "name": "stdout",
     "output_type": "stream",
     "text": [
      "/Users/mfedarko/Dropbox/Work/KnightLab/qurro/qurro/_df_utils.py:126: FutureWarning: SparseDataFrame is deprecated and will be removed in a future version.\n",
      "Use a regular DataFrame whose columns are SparseArrays instead.\n",
      "\n",
      "See http://pandas.pydata.org/pandas-docs/stable/user_guide/sparse.html#migrating for more.\n",
      "\n",
      "  table_sdf = pd.SparseDataFrame(table.matrix_data, default_fill_value=0.0)\n",
      "/Users/mfedarko/anaconda3/envs/qiime2-2020.2/lib/python3.6/site-packages/pandas/core/sparse/frame.py:257: FutureWarning: SparseSeries is deprecated and will be removed in a future version.\n",
      "Use a Series with sparse values instead.\n",
      "\n",
      "    >>> series = pd.Series(pd.SparseArray(...))\n",
      "\n",
      "See http://pandas.pydata.org/pandas-docs/stable/user_guide/sparse.html#migrating for more.\n",
      "\n",
      "  sparse_index=BlockIndex(N, blocs, blens),\n",
      "/Users/mfedarko/anaconda3/envs/qiime2-2020.2/lib/python3.6/site-packages/pandas/core/frame.py:3471: FutureWarning: SparseSeries is deprecated and will be removed in a future version.\n",
      "Use a Series with sparse values instead.\n",
      "\n",
      "    >>> series = pd.Series(pd.SparseArray(...))\n",
      "\n",
      "See http://pandas.pydata.org/pandas-docs/stable/user_guide/sparse.html#migrating for more.\n",
      "\n",
      "  return klass(values, index=self.index, name=items, fastpath=True)\n",
      "/Users/mfedarko/anaconda3/envs/qiime2-2020.2/lib/python3.6/site-packages/pandas/core/ops/__init__.py:1641: FutureWarning: SparseSeries is deprecated and will be removed in a future version.\n",
      "Use a Series with sparse values instead.\n",
      "\n",
      "    >>> series = pd.Series(pd.SparseArray(...))\n",
      "\n",
      "See http://pandas.pydata.org/pandas-docs/stable/user_guide/sparse.html#migrating for more.\n",
      "\n",
      "  return self._constructor(new_values, index=self.index, name=self.name)\n",
      "/Users/mfedarko/anaconda3/envs/qiime2-2020.2/lib/python3.6/site-packages/pandas/core/sparse/frame.py:339: FutureWarning: SparseDataFrame is deprecated and will be removed in a future version.\n",
      "Use a regular DataFrame whose columns are SparseArrays instead.\n",
      "\n",
      "See http://pandas.pydata.org/pandas-docs/stable/user_guide/sparse.html#migrating for more.\n",
      "\n",
      "  default_fill_value=self.default_fill_value,\n",
      "/Users/mfedarko/anaconda3/envs/qiime2-2020.2/lib/python3.6/site-packages/pandas/core/generic.py:6289: FutureWarning: SparseDataFrame is deprecated and will be removed in a future version.\n",
      "Use a regular DataFrame whose columns are SparseArrays instead.\n",
      "\n",
      "See http://pandas.pydata.org/pandas-docs/stable/user_guide/sparse.html#migrating for more.\n",
      "\n",
      "  return self._constructor(new_data).__finalize__(self)\n",
      "/Users/mfedarko/anaconda3/envs/qiime2-2020.2/lib/python3.6/site-packages/pandas/core/generic.py:5884: FutureWarning: SparseSeries is deprecated and will be removed in a future version.\n",
      "Use a Series with sparse values instead.\n",
      "\n",
      "    >>> series = pd.Series(pd.SparseArray(...))\n",
      "\n",
      "See http://pandas.pydata.org/pandas-docs/stable/user_guide/sparse.html#migrating for more.\n",
      "\n",
      "  return self._constructor(new_data).__finalize__(self)\n",
      "/Users/mfedarko/anaconda3/envs/qiime2-2020.2/lib/python3.6/site-packages/pandas/core/sparse/frame.py:785: FutureWarning: SparseDataFrame is deprecated and will be removed in a future version.\n",
      "Use a regular DataFrame whose columns are SparseArrays instead.\n",
      "\n",
      "See http://pandas.pydata.org/pandas-docs/stable/user_guide/sparse.html#migrating for more.\n",
      "\n",
      "  return self._constructor(new_arrays, index=index, columns=columns).__finalize__(\n",
      "/Users/mfedarko/anaconda3/envs/qiime2-2020.2/lib/python3.6/site-packages/pandas/core/generic.py:3606: FutureWarning: SparseDataFrame is deprecated and will be removed in a future version.\n",
      "Use a regular DataFrame whose columns are SparseArrays instead.\n",
      "\n",
      "See http://pandas.pydata.org/pandas-docs/stable/user_guide/sparse.html#migrating for more.\n",
      "\n",
      "  result = self._constructor(new_data).__finalize__(self)\n",
      "/Users/mfedarko/anaconda3/envs/qiime2-2020.2/lib/python3.6/site-packages/pandas/core/generic.py:1999: FutureWarning: SparseDataFrame is deprecated and will be removed in a future version.\n",
      "Use a regular DataFrame whose columns are SparseArrays instead.\n",
      "\n",
      "See http://pandas.pydata.org/pandas-docs/stable/user_guide/sparse.html#migrating for more.\n",
      "\n",
      "  return self._constructor(result, **d).__finalize__(self)\n",
      "/Users/mfedarko/anaconda3/envs/qiime2-2020.2/lib/python3.6/site-packages/pandas/core/sparse/frame.py:745: FutureWarning: SparseDataFrame is deprecated and will be removed in a future version.\n",
      "Use a regular DataFrame whose columns are SparseArrays instead.\n",
      "\n",
      "See http://pandas.pydata.org/pandas-docs/stable/user_guide/sparse.html#migrating for more.\n",
      "\n",
      "  default_fill_value=self._default_fill_value,\n",
      "/Users/mfedarko/anaconda3/envs/qiime2-2020.2/lib/python3.6/site-packages/pandas/core/generic.py:9126: FutureWarning: SparseDataFrame is deprecated and will be removed in a future version.\n",
      "Use a regular DataFrame whose columns are SparseArrays instead.\n",
      "\n",
      "See http://pandas.pydata.org/pandas-docs/stable/user_guide/sparse.html#migrating for more.\n",
      "\n",
      "  return self._constructor(new_data).__finalize__(self)\n",
      "/Users/mfedarko/anaconda3/envs/qiime2-2020.2/lib/python3.6/site-packages/pandas/core/sparse/frame.py:854: FutureWarning: SparseDataFrame is deprecated and will be removed in a future version.\n",
      "Use a regular DataFrame whose columns are SparseArrays instead.\n",
      "\n",
      "See http://pandas.pydata.org/pandas-docs/stable/user_guide/sparse.html#migrating for more.\n",
      "\n",
      "  default_kind=self._default_kind,\n",
      "Successfully generated a visualization in the folder output/qurro_plot_standalone/.\n"
     ]
    }
   ],
   "source": [
    "!qurro \\\n",
    "    --ranks output/differentials.tsv \\\n",
    "    --table input/redsea.biom \\\n",
    "    --sample-metadata input/redsea_metadata.txt \\\n",
    "    --feature-metadata input/feature_metadata.txt \\\n",
    "    --output-dir output/qurro_plot_standalone/"
   ]
  },
  {
   "cell_type": "markdown",
   "metadata": {},
   "source": [
    "We just generated a Qurro visualization in the folder `output/qurro_plot_standalone/`. This visualization is analogous to the QZV file we generated above using QIIME 2. You can view this visualization by just opening up `output/qurro_plot_standalone/index.html` in a modern web browser.\n",
    "\n",
    "That's it! If you have any more questions about using Qurro, feel free to contact us (see the Qurro README for contact information)."
   ]
  }
 ],
 "metadata": {
  "kernelspec": {
   "display_name": "Python 3",
   "language": "python",
   "name": "python3"
  },
  "language_info": {
   "codemirror_mode": {
    "name": "ipython",
    "version": 3
   },
   "file_extension": ".py",
   "mimetype": "text/x-python",
   "name": "python",
   "nbconvert_exporter": "python",
   "pygments_lexer": "ipython3",
   "version": "3.6.7"
  }
 },
 "nbformat": 4,
 "nbformat_minor": 2
}
