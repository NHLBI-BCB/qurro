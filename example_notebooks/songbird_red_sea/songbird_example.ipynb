{
 "cells": [
  {
   "cell_type": "markdown",
   "metadata": {},
   "source": [
    "## Visualizing songbird feature ranks with rankratioviz\n",
    "In this example, we use data from the Red Sea metagenome dataset. This particular data was obtained from [Songbird's GitHub repository in its `data/redsea` folder](https://github.com/biocore/songbird/tree/master/data/redsea), and is associated with the following paper:\n",
    "\n",
    "Thompson, L. R., Williams, G. J., Haroon, M. F., Shibl, A., Larsen, P., Shorenstein, J., ... & Stingl, U. (2017). Metagenomic covariation along densely sampled environmental gradients in the Red Sea. _The ISME journal, 11_(1), 138.\n",
    "\n",
    "The commands for running songbird and importing the Red Sea data are based on the example usage of this dataset in the songbird README file on its GitHub page.\n",
    "\n",
    "### Requirements\n",
    "This notebook relies on QIIME 2, songbird, and rankratioviz all being installed."
   ]
  },
  {
   "cell_type": "markdown",
   "metadata": {},
   "source": [
    "### Setting up\n",
    "In this section, we clear the output directory and then import our BIOM table as a `FeatureTable[Frequency]` QIIME 2 artifact."
   ]
  },
  {
   "cell_type": "code",
   "execution_count": 1,
   "metadata": {},
   "outputs": [],
   "source": [
    "# Clear the output directory so we can write these files there\n",
    "!rm -rf output/*\n",
    "# Since git doesn't keep track of empty directories, create the output/ directory if it doesn't already exist\n",
    "# (if it does already exist, -p ensures that an error won't be thrown)\n",
    "!mkdir -p output"
   ]
  },
  {
   "cell_type": "code",
   "execution_count": 2,
   "metadata": {},
   "outputs": [
    {
     "name": "stdout",
     "output_type": "stream",
     "text": [
      "\u001b[32mImported input/redsea.biom as BIOMV210DirFmt to output/redsea.biom.qza\u001b[0m\r\n"
     ]
    }
   ],
   "source": [
    "!qiime tools import \\\n",
    "    --input-path input/redsea.biom \\\n",
    "    --output-path output/redsea.biom.qza \\\n",
    "    --type FeatureTable[Frequency]"
   ]
  },
  {
   "cell_type": "markdown",
   "metadata": {},
   "source": [
    "### Running songbird through QIIME 2\n",
    "Now, we run songbird on our imported BIOM table. This produces three output files, but the main one we care about for rankratioviz is the `FeatureData[Differential]` artifact (which will be stored in `output/differentials.qza`). This artifact contains **feature rankings**: as songbird's documentation puts it, these correspond to \"...the ordering of the coefficients within a covariate.\"\n",
    "\n",
    "Please see [songbird's documentation](https://github.com/biocore/songbird/) for more information about how it works and how its output files are formatted."
   ]
  },
  {
   "cell_type": "code",
   "execution_count": 3,
   "metadata": {},
   "outputs": [
    {
     "name": "stdout",
     "output_type": "stream",
     "text": [
      "\u001b[32mSaved FeatureData[Differential] to: output/differentials.qza\u001b[0m\r\n",
      "\u001b[32mSaved SampleData[SongbirdStats] to: output/regression-stats.qza\u001b[0m\r\n",
      "\u001b[32mSaved PCoAResults % Properties(['biplot']) to: output/regression-biplot.qza\u001b[0m\r\n"
     ]
    }
   ],
   "source": [
    "!qiime songbird multinomial \\\n",
    "    --i-table output/redsea.biom.qza \\\n",
    "    --m-metadata-file input/redsea_metadata.txt \\\n",
    "    --p-formula \"Depth+Temperature+Salinity+Oxygen+Fluorescence+Nitrate\" \\\n",
    "    --o-differentials output/differentials.qza \\\n",
    "    --o-regression-stats output/regression-stats.qza \\\n",
    "    --o-regression-biplot output/regression-biplot.qza"
   ]
  },
  {
   "cell_type": "markdown",
   "metadata": {},
   "source": [
    "### Using rankratioviz through QIIME 2\n",
    "You can use rankratioviz inside or outside of QIIME 2. First, let's show how to use rankratioviz from within QIIME 2. Since we're working with songbird output, we use the `qiime rankratioviz supervised-rank-plot` command.\n",
    "\n",
    "**Note** that songbird must be installed on your system for the `qiime rankratioviz supervised-rank-plot` command to be available."
   ]
  },
  {
   "cell_type": "code",
   "execution_count": 4,
   "metadata": {},
   "outputs": [
    {
     "name": "stdout",
     "output_type": "stream",
     "text": [
      "Usage: qiime rankratioviz supervised-rank-plot [OPTIONS]\r\n",
      "\r\n",
      "  Generates an interactive visualization of songbird ranks in tandem with a\r\n",
      "  visualization of the log ratios of selected ranks' sample abundance.\r\n",
      "\r\n",
      "Options:\r\n",
      "  --i-ranks ARTIFACT PATH FeatureData[Differential]\r\n",
      "                                  A differentials file describing ranks\r\n",
      "                                  produced by songbird  [required]\r\n",
      "  --i-table ARTIFACT PATH FeatureTable[Frequency]\r\n",
      "                                  A BIOM table describing the abundances of\r\n",
      "                                  the ranked featuresin samples.  [required]\r\n",
      "  --m-sample-metadata-file MULTIPLE FILE\r\n",
      "                                  Metadata file or artifact viewable as\r\n",
      "                                  metadata. This option may be supplied\r\n",
      "                                  multiple times to merge metadata.\r\n",
      "                                  [required]\r\n",
      "  --m-feature-metadata-file MULTIPLE FILE\r\n",
      "                                  Metadata file or artifact viewable as\r\n",
      "                                  metadata. This option may be supplied\r\n",
      "                                  multiple times to merge metadata.\r\n",
      "                                  [optional]\r\n",
      "  --o-visualization VISUALIZATION PATH\r\n",
      "                                  [required if not passing --output-dir]\r\n",
      "  --output-dir DIRECTORY          Output unspecified results to a directory\r\n",
      "  --cmd-config FILE               Use config file for command options\r\n",
      "  --verbose                       Display verbose output to stdout and/or\r\n",
      "                                  stderr during execution of this action.\r\n",
      "                                  [default: False]\r\n",
      "  --quiet                         Silence output if execution is successful\r\n",
      "                                  (silence is golden).  [default: False]\r\n",
      "  --citations                     Show citations and exit.\r\n",
      "  --help                          Show this message and exit.\r\n"
     ]
    }
   ],
   "source": [
    "!qiime rankratioviz supervised-rank-plot --help"
   ]
  },
  {
   "cell_type": "code",
   "execution_count": 5,
   "metadata": {},
   "outputs": [
    {
     "name": "stdout",
     "output_type": "stream",
     "text": [
      "\u001b[32mSaved Visualization to: output/rrv_plot_q2.qzv\u001b[0m\r\n"
     ]
    }
   ],
   "source": [
    "!qiime rankratioviz supervised-rank-plot \\\n",
    "    --i-ranks output/differentials.qza \\\n",
    "    --i-table output/redsea.biom.qza \\\n",
    "    --m-sample-metadata-file input/redsea_metadata.txt \\\n",
    "    --m-feature-metadata-file input/feature_metadata.txt \\\n",
    "    --o-visualization output/rrv_plot_q2.qzv"
   ]
  },
  {
   "cell_type": "markdown",
   "metadata": {},
   "source": [
    "That's it! Now, we've created a QZV file (describing a rankratioviz visualization) at `output/rrv_plot_q2.qzv`. You can view this visualization in one of the following ways:\n",
    "  1. Upload the QZV file to [view.qiime2.org](https://view.qiime2.org).\n",
    "  2. View the QZV file using `qiime tools view`."
   ]
  },
  {
   "cell_type": "markdown",
   "metadata": {},
   "source": [
    "### Using rankratioviz as a standalone tool\n",
    "We don't need to use rankratioviz through QIIME 2; if you want, you can run it by itself. The benefit to this is that you don't need to install QIIME 2 to run rankratioviz this way. (You also don't need to have songbird installed, either; this can be helpful if you ran songbird on a different system than you're running rankratioviz.)\n",
    "\n",
    "Here, we just export the `differentials.qza` file we already generated using `qiime songbird multinomial` to a `differentials.tsv` file. This file can be understood by rankratioviz when run outside of QIIME 2.\n",
    "\n",
    "(In practice, you can also generate a `differentials.tsv` file -- which can be read by rankratioviz outside of QIIME 2 -- by running `songbird` outside of QIIME 2.)"
   ]
  },
  {
   "cell_type": "code",
   "execution_count": 6,
   "metadata": {},
   "outputs": [
    {
     "name": "stdout",
     "output_type": "stream",
     "text": [
      "\u001b[32mExported output/differentials.qza as DifferentialDirFmt to directory output\u001b[0m\r\n"
     ]
    }
   ],
   "source": [
    "# export differentials to a .tsv file\n",
    "!qiime tools export \\\n",
    "    --input-path output/differentials.qza \\\n",
    "    --output-path output"
   ]
  },
  {
   "cell_type": "code",
   "execution_count": 7,
   "metadata": {},
   "outputs": [
    {
     "name": "stdout",
     "output_type": "stream",
     "text": [
      "Usage: rankratioviz [OPTIONS]\r\n",
      "\r\n",
      "  Generates a plot of ranked taxa/metabolites and their abundances.\r\n",
      "\r\n",
      "Options:\r\n",
      "  -r, --ranks TEXT              Differentials output from songbird or\r\n",
      "                                Ordination output from DEICODE.  [required]\r\n",
      "  -t, --table TEXT              BIOM table describing taxon/metabolite sample\r\n",
      "                                abundances.  [required]\r\n",
      "  -fm, --feature-metadata TEXT  Feature metadata file.\r\n",
      "  -sm, --sample-metadata TEXT   Sample metadata file.  [required]\r\n",
      "  -o, --output-dir TEXT         Location of output files.  [required]\r\n",
      "  --help                        Show this message and exit.\r\n"
     ]
    }
   ],
   "source": [
    "!rankratioviz --help"
   ]
  },
  {
   "cell_type": "code",
   "execution_count": 8,
   "metadata": {},
   "outputs": [
    {
     "name": "stdout",
     "output_type": "stream",
     "text": [
      "All sample(s) in the sample metadata file were supported in the BIOM table.\n",
      "Successfully generated a visualization in the folder output/rrv_plot_standalone/.\n"
     ]
    }
   ],
   "source": [
    "!rankratioviz \\\n",
    "    --ranks output/differentials.tsv \\\n",
    "    --table input/redsea.biom \\\n",
    "    --sample-metadata input/redsea_metadata.txt \\\n",
    "    --feature-metadata input/feature_metadata.txt \\\n",
    "    --output-dir output/rrv_plot_standalone/"
   ]
  },
  {
   "cell_type": "markdown",
   "metadata": {},
   "source": [
    "We just generated a rankratioviz visualization in the folder `output/rrv_plot_standalone/`. This visualization is analogous to the QZV file we generated above using QIIME 2. You can view this visualization by just opening up `output/rrv_plot_standalone/index.html` in a modern web browser.\n",
    "\n",
    "That's it! If you have any more questions about using rankratioviz, feel free to contact us (see the rankratioviz README for contact information)."
   ]
  }
 ],
 "metadata": {
  "kernelspec": {
   "display_name": "Python 3",
   "language": "python",
   "name": "python3"
  },
  "language_info": {
   "codemirror_mode": {
    "name": "ipython",
    "version": 3
   },
   "file_extension": ".py",
   "mimetype": "text/x-python",
   "name": "python",
   "nbconvert_exporter": "python",
   "pygments_lexer": "ipython3",
   "version": "3.6.8"
  }
 },
 "nbformat": 4,
 "nbformat_minor": 2
}
